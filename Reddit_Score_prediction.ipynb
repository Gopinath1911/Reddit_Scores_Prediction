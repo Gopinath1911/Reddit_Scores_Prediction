{
  "nbformat": 4,
  "nbformat_minor": 0,
  "metadata": {
    "colab": {
      "name": "Reddit_Score_prediction.ipynb",
      "provenance": [],
      "collapsed_sections": [],
      "machine_shape": "hm",
      "include_colab_link": true
    },
    "kernelspec": {
      "name": "python3",
      "display_name": "Python 3"
    },
    "accelerator": "GPU"
  },
  "cells": [
    {
      "cell_type": "markdown",
      "metadata": {
        "id": "view-in-github",
        "colab_type": "text"
      },
      "source": [
        "<a href=\"https://colab.research.google.com/github/Gopinath1911/Reddit_Scores_Prediction/blob/main/Reddit_Score_prediction.ipynb\" target=\"_parent\"><img src=\"https://colab.research.google.com/assets/colab-badge.svg\" alt=\"Open In Colab\"/></a>"
      ]
    },
    {
      "cell_type": "code",
      "metadata": {
        "id": "2pNDwH6CIM2M",
        "colab": {
          "base_uri": "https://localhost:8080/"
        },
        "outputId": "93990454-7a0c-4450-de7e-60ccff0f2060"
      },
      "source": [
        "from google.colab import drive\n",
        "drive.mount('/content/drive')"
      ],
      "execution_count": null,
      "outputs": [
        {
          "output_type": "stream",
          "text": [
            "Drive already mounted at /content/drive; to attempt to forcibly remount, call drive.mount(\"/content/drive\", force_remount=True).\n"
          ],
          "name": "stdout"
        }
      ]
    },
    {
      "cell_type": "code",
      "metadata": {
        "id": "STzKGQQBILXU",
        "colab": {
          "base_uri": "https://localhost:8080/"
        },
        "outputId": "548f7178-5b81-44c5-85bc-e2cd6525520b"
      },
      "source": [
        "\r\n",
        "import pandas as pd\r\n",
        "import numpy as np\r\n",
        "\r\n",
        "df=pd.read_csv(\"/content/drive/MyDrive/data.csv\")"
      ],
      "execution_count": null,
      "outputs": [
        {
          "output_type": "stream",
          "text": [
            "/usr/local/lib/python3.6/dist-packages/IPython/core/interactiveshell.py:2718: DtypeWarning: Columns (19) have mixed types.Specify dtype option on import or set low_memory=False.\n",
            "  interactivity=interactivity, compiler=compiler, result=result)\n"
          ],
          "name": "stderr"
        }
      ]
    },
    {
      "cell_type": "code",
      "metadata": {
        "colab": {
          "base_uri": "https://localhost:8080/",
          "height": 501
        },
        "id": "KFOYSQuFInil",
        "outputId": "9bc0c66d-dc96-4892-e675-7c90dae795a4"
      },
      "source": [
        "df.head()"
      ],
      "execution_count": null,
      "outputs": [
        {
          "output_type": "execute_result",
          "data": {
            "text/html": [
              "<div>\n",
              "<style scoped>\n",
              "    .dataframe tbody tr th:only-of-type {\n",
              "        vertical-align: middle;\n",
              "    }\n",
              "\n",
              "    .dataframe tbody tr th {\n",
              "        vertical-align: top;\n",
              "    }\n",
              "\n",
              "    .dataframe thead th {\n",
              "        text-align: right;\n",
              "    }\n",
              "</style>\n",
              "<table border=\"1\" class=\"dataframe\">\n",
              "  <thead>\n",
              "    <tr style=\"text-align: right;\">\n",
              "      <th></th>\n",
              "      <th>Unnamed: 0</th>\n",
              "      <th>gilded</th>\n",
              "      <th>author_flair_css_class</th>\n",
              "      <th>id</th>\n",
              "      <th>link_id</th>\n",
              "      <th>downs</th>\n",
              "      <th>subreddit</th>\n",
              "      <th>author</th>\n",
              "      <th>score</th>\n",
              "      <th>subreddit_id</th>\n",
              "      <th>ups</th>\n",
              "      <th>edited</th>\n",
              "      <th>author_flair_text</th>\n",
              "      <th>body</th>\n",
              "      <th>retrieved_on</th>\n",
              "      <th>parent_id</th>\n",
              "      <th>controversiality</th>\n",
              "      <th>name</th>\n",
              "      <th>score_hidden</th>\n",
              "      <th>distinguished</th>\n",
              "      <th>archived</th>\n",
              "      <th>created_utc</th>\n",
              "      <th>removal_reason</th>\n",
              "    </tr>\n",
              "  </thead>\n",
              "  <tbody>\n",
              "    <tr>\n",
              "      <th>0</th>\n",
              "      <td>0</td>\n",
              "      <td>0</td>\n",
              "      <td>NaN</td>\n",
              "      <td>2</td>\n",
              "      <td>t3_7j6z5</td>\n",
              "      <td>0</td>\n",
              "      <td>politics</td>\n",
              "      <td>malcontent</td>\n",
              "      <td>1</td>\n",
              "      <td>t5_2cneq</td>\n",
              "      <td>1</td>\n",
              "      <td>0</td>\n",
              "      <td>NaN</td>\n",
              "      <td>&amp;gt;The business cannot survive paying out ben...</td>\n",
              "      <td>1428217153</td>\n",
              "      <td>t1_c06vdmu</td>\n",
              "      <td>0</td>\n",
              "      <td>t1_2</td>\n",
              "      <td>False</td>\n",
              "      <td>NaN</td>\n",
              "      <td>True</td>\n",
              "      <td>1229580037</td>\n",
              "      <td>NaN</td>\n",
              "    </tr>\n",
              "    <tr>\n",
              "      <th>1</th>\n",
              "      <td>1</td>\n",
              "      <td>0</td>\n",
              "      <td>NaN</td>\n",
              "      <td>3</td>\n",
              "      <td>t3_7jlvw</td>\n",
              "      <td>0</td>\n",
              "      <td>politics</td>\n",
              "      <td>malcontent</td>\n",
              "      <td>1</td>\n",
              "      <td>t5_2cneq</td>\n",
              "      <td>1</td>\n",
              "      <td>0</td>\n",
              "      <td>NaN</td>\n",
              "      <td>&amp;gt;I'm curious, how do you see, beyond defini...</td>\n",
              "      <td>1428217153</td>\n",
              "      <td>t1_c06vcxp</td>\n",
              "      <td>0</td>\n",
              "      <td>t1_3</td>\n",
              "      <td>False</td>\n",
              "      <td>NaN</td>\n",
              "      <td>True</td>\n",
              "      <td>1229580041</td>\n",
              "      <td>NaN</td>\n",
              "    </tr>\n",
              "    <tr>\n",
              "      <th>2</th>\n",
              "      <td>2</td>\n",
              "      <td>0</td>\n",
              "      <td>NaN</td>\n",
              "      <td>4</td>\n",
              "      <td>t3_7jlvw</td>\n",
              "      <td>0</td>\n",
              "      <td>politics</td>\n",
              "      <td>malcontent</td>\n",
              "      <td>2</td>\n",
              "      <td>t5_2cneq</td>\n",
              "      <td>2</td>\n",
              "      <td>0</td>\n",
              "      <td>NaN</td>\n",
              "      <td>&amp;gt;I'm curious, how do you see, beyond defini...</td>\n",
              "      <td>1428217153</td>\n",
              "      <td>t1_c06vcxp</td>\n",
              "      <td>0</td>\n",
              "      <td>t1_4</td>\n",
              "      <td>False</td>\n",
              "      <td>NaN</td>\n",
              "      <td>True</td>\n",
              "      <td>1229580053</td>\n",
              "      <td>NaN</td>\n",
              "    </tr>\n",
              "    <tr>\n",
              "      <th>3</th>\n",
              "      <td>3</td>\n",
              "      <td>0</td>\n",
              "      <td>NaN</td>\n",
              "      <td>5</td>\n",
              "      <td>t3_7k65l</td>\n",
              "      <td>0</td>\n",
              "      <td>WTF</td>\n",
              "      <td>[deleted]</td>\n",
              "      <td>1</td>\n",
              "      <td>t5_2qh61</td>\n",
              "      <td>1</td>\n",
              "      <td>0</td>\n",
              "      <td>NaN</td>\n",
              "      <td>[deleted]</td>\n",
              "      <td>1428217153</td>\n",
              "      <td>t1_c06vuga</td>\n",
              "      <td>0</td>\n",
              "      <td>t1_5</td>\n",
              "      <td>False</td>\n",
              "      <td>NaN</td>\n",
              "      <td>True</td>\n",
              "      <td>1229580067</td>\n",
              "      <td>NaN</td>\n",
              "    </tr>\n",
              "    <tr>\n",
              "      <th>4</th>\n",
              "      <td>4</td>\n",
              "      <td>0</td>\n",
              "      <td>NaN</td>\n",
              "      <td>6</td>\n",
              "      <td>t3_7k97q</td>\n",
              "      <td>0</td>\n",
              "      <td>reddit.com</td>\n",
              "      <td>[deleted]</td>\n",
              "      <td>1</td>\n",
              "      <td>t5_6</td>\n",
              "      <td>1</td>\n",
              "      <td>0</td>\n",
              "      <td>NaN</td>\n",
              "      <td>[deleted]</td>\n",
              "      <td>1428217153</td>\n",
              "      <td>t3_7k97q</td>\n",
              "      <td>0</td>\n",
              "      <td>t1_6</td>\n",
              "      <td>False</td>\n",
              "      <td>NaN</td>\n",
              "      <td>True</td>\n",
              "      <td>1229580072</td>\n",
              "      <td>NaN</td>\n",
              "    </tr>\n",
              "  </tbody>\n",
              "</table>\n",
              "</div>"
            ],
            "text/plain": [
              "   Unnamed: 0  gilded  ... created_utc removal_reason\n",
              "0           0       0  ...  1229580037            NaN\n",
              "1           1       0  ...  1229580041            NaN\n",
              "2           2       0  ...  1229580053            NaN\n",
              "3           3       0  ...  1229580067            NaN\n",
              "4           4       0  ...  1229580072            NaN\n",
              "\n",
              "[5 rows x 23 columns]"
            ]
          },
          "metadata": {
            "tags": []
          },
          "execution_count": 3
        }
      ]
    },
    {
      "cell_type": "markdown",
      "metadata": {
        "id": "ozubzoRukaAd"
      },
      "source": [
        ""
      ]
    },
    {
      "cell_type": "code",
      "metadata": {
        "colab": {
          "base_uri": "https://localhost:8080/"
        },
        "id": "4NOCVRzgJQDV",
        "outputId": "07b1e89a-1d20-4d98-af4c-d1d18ed00fba"
      },
      "source": [
        "df.shape"
      ],
      "execution_count": null,
      "outputs": [
        {
          "output_type": "execute_result",
          "data": {
            "text/plain": [
              "(850359, 23)"
            ]
          },
          "metadata": {
            "tags": []
          },
          "execution_count": 4
        }
      ]
    },
    {
      "cell_type": "code",
      "metadata": {
        "colab": {
          "base_uri": "https://localhost:8080/"
        },
        "id": "YFZmz2YqJe4l",
        "outputId": "11d2c54c-d17e-4310-9ba2-c0ca2ac5eec9"
      },
      "source": [
        "df.info()"
      ],
      "execution_count": null,
      "outputs": [
        {
          "output_type": "stream",
          "text": [
            "<class 'pandas.core.frame.DataFrame'>\n",
            "RangeIndex: 850359 entries, 0 to 850358\n",
            "Data columns (total 23 columns):\n",
            " #   Column                  Non-Null Count   Dtype  \n",
            "---  ------                  --------------   -----  \n",
            " 0   Unnamed: 0              850359 non-null  int64  \n",
            " 1   gilded                  850359 non-null  int64  \n",
            " 2   author_flair_css_class  4431 non-null    object \n",
            " 3   id                      850358 non-null  object \n",
            " 4   link_id                 850359 non-null  object \n",
            " 5   downs                   850359 non-null  int64  \n",
            " 6   subreddit               850359 non-null  object \n",
            " 7   author                  850359 non-null  object \n",
            " 8   score                   850359 non-null  int64  \n",
            " 9   subreddit_id            850359 non-null  object \n",
            " 10  ups                     850359 non-null  int64  \n",
            " 11  edited                  850359 non-null  int64  \n",
            " 12  author_flair_text       3916 non-null    object \n",
            " 13  body                    850357 non-null  object \n",
            " 14  retrieved_on            850359 non-null  int64  \n",
            " 15  parent_id               850359 non-null  object \n",
            " 16  controversiality        850359 non-null  int64  \n",
            " 17  name                    850359 non-null  object \n",
            " 18  score_hidden            850359 non-null  bool   \n",
            " 19  distinguished           2 non-null       object \n",
            " 20  archived                850359 non-null  bool   \n",
            " 21  created_utc             850359 non-null  int64  \n",
            " 22  removal_reason          0 non-null       float64\n",
            "dtypes: bool(2), float64(1), int64(9), object(11)\n",
            "memory usage: 137.9+ MB\n"
          ],
          "name": "stdout"
        }
      ]
    },
    {
      "cell_type": "code",
      "metadata": {
        "id": "euwNYZGuJiLh",
        "colab": {
          "base_uri": "https://localhost:8080/"
        },
        "outputId": "5d9667d6-fda3-4f9d-d9a4-3d27b4da05a9"
      },
      "source": [
        "df.isna().sum()"
      ],
      "execution_count": null,
      "outputs": [
        {
          "output_type": "execute_result",
          "data": {
            "text/plain": [
              "Unnamed: 0                     0\n",
              "gilded                         0\n",
              "author_flair_css_class    845928\n",
              "id                             1\n",
              "link_id                        0\n",
              "downs                          0\n",
              "subreddit                      0\n",
              "author                         0\n",
              "score                          0\n",
              "subreddit_id                   0\n",
              "ups                            0\n",
              "edited                         0\n",
              "author_flair_text         846443\n",
              "body                           2\n",
              "retrieved_on                   0\n",
              "parent_id                      0\n",
              "controversiality               0\n",
              "name                           0\n",
              "score_hidden                   0\n",
              "distinguished             850357\n",
              "archived                       0\n",
              "created_utc                    0\n",
              "removal_reason            850359\n",
              "dtype: int64"
            ]
          },
          "metadata": {
            "tags": []
          },
          "execution_count": 6
        }
      ]
    },
    {
      "cell_type": "code",
      "metadata": {
        "colab": {
          "base_uri": "https://localhost:8080/"
        },
        "id": "5YMLAnzOtKCN",
        "outputId": "4822c499-6edc-4e19-adad-6025ca2b9615"
      },
      "source": [
        "df.nunique()"
      ],
      "execution_count": null,
      "outputs": [
        {
          "output_type": "execute_result",
          "data": {
            "text/plain": [
              "Unnamed: 0                850359\n",
              "gilded                         1\n",
              "author_flair_css_class       314\n",
              "id                        850358\n",
              "link_id                   110898\n",
              "downs                          1\n",
              "subreddit                   1103\n",
              "author                     34073\n",
              "score                        493\n",
              "subreddit_id                1103\n",
              "ups                          493\n",
              "edited                       670\n",
              "author_flair_text            460\n",
              "body                      692282\n",
              "retrieved_on                7427\n",
              "parent_id                 443336\n",
              "controversiality               2\n",
              "name                      850359\n",
              "score_hidden                   1\n",
              "distinguished                  1\n",
              "archived                       2\n",
              "created_utc               714831\n",
              "removal_reason                 0\n",
              "dtype: int64"
            ]
          },
          "metadata": {
            "tags": []
          },
          "execution_count": 7
        }
      ]
    },
    {
      "cell_type": "code",
      "metadata": {
        "id": "FtCoA2sBv8Bm"
      },
      "source": [
        "df=df.loc[:, ~df.columns.str.contains('^Unnamed')]"
      ],
      "execution_count": null,
      "outputs": []
    },
    {
      "cell_type": "code",
      "metadata": {
        "id": "RedxWxfnwIwT"
      },
      "source": [
        "df.drop(['gilded','downs', 'ups', 'controversiality', 'score_hidden', 'distinguished','removal_reason'], axis=1, inplace=True)"
      ],
      "execution_count": null,
      "outputs": []
    },
    {
      "cell_type": "code",
      "metadata": {
        "colab": {
          "base_uri": "https://localhost:8080/",
          "height": 497
        },
        "id": "6pmoZ5a2z7VH",
        "outputId": "71ac6c4f-41b6-4fe3-b769-945238c14866"
      },
      "source": [
        "df.head().T"
      ],
      "execution_count": null,
      "outputs": [
        {
          "output_type": "execute_result",
          "data": {
            "text/html": [
              "<div>\n",
              "<style scoped>\n",
              "    .dataframe tbody tr th:only-of-type {\n",
              "        vertical-align: middle;\n",
              "    }\n",
              "\n",
              "    .dataframe tbody tr th {\n",
              "        vertical-align: top;\n",
              "    }\n",
              "\n",
              "    .dataframe thead th {\n",
              "        text-align: right;\n",
              "    }\n",
              "</style>\n",
              "<table border=\"1\" class=\"dataframe\">\n",
              "  <thead>\n",
              "    <tr style=\"text-align: right;\">\n",
              "      <th></th>\n",
              "      <th>0</th>\n",
              "      <th>1</th>\n",
              "      <th>2</th>\n",
              "      <th>3</th>\n",
              "      <th>4</th>\n",
              "    </tr>\n",
              "  </thead>\n",
              "  <tbody>\n",
              "    <tr>\n",
              "      <th>author_flair_css_class</th>\n",
              "      <td>NaN</td>\n",
              "      <td>NaN</td>\n",
              "      <td>NaN</td>\n",
              "      <td>NaN</td>\n",
              "      <td>NaN</td>\n",
              "    </tr>\n",
              "    <tr>\n",
              "      <th>id</th>\n",
              "      <td>2</td>\n",
              "      <td>3</td>\n",
              "      <td>4</td>\n",
              "      <td>5</td>\n",
              "      <td>6</td>\n",
              "    </tr>\n",
              "    <tr>\n",
              "      <th>link_id</th>\n",
              "      <td>t3_7j6z5</td>\n",
              "      <td>t3_7jlvw</td>\n",
              "      <td>t3_7jlvw</td>\n",
              "      <td>t3_7k65l</td>\n",
              "      <td>t3_7k97q</td>\n",
              "    </tr>\n",
              "    <tr>\n",
              "      <th>subreddit</th>\n",
              "      <td>politics</td>\n",
              "      <td>politics</td>\n",
              "      <td>politics</td>\n",
              "      <td>WTF</td>\n",
              "      <td>reddit.com</td>\n",
              "    </tr>\n",
              "    <tr>\n",
              "      <th>author</th>\n",
              "      <td>malcontent</td>\n",
              "      <td>malcontent</td>\n",
              "      <td>malcontent</td>\n",
              "      <td>[deleted]</td>\n",
              "      <td>[deleted]</td>\n",
              "    </tr>\n",
              "    <tr>\n",
              "      <th>score</th>\n",
              "      <td>1</td>\n",
              "      <td>1</td>\n",
              "      <td>2</td>\n",
              "      <td>1</td>\n",
              "      <td>1</td>\n",
              "    </tr>\n",
              "    <tr>\n",
              "      <th>subreddit_id</th>\n",
              "      <td>t5_2cneq</td>\n",
              "      <td>t5_2cneq</td>\n",
              "      <td>t5_2cneq</td>\n",
              "      <td>t5_2qh61</td>\n",
              "      <td>t5_6</td>\n",
              "    </tr>\n",
              "    <tr>\n",
              "      <th>edited</th>\n",
              "      <td>0</td>\n",
              "      <td>0</td>\n",
              "      <td>0</td>\n",
              "      <td>0</td>\n",
              "      <td>0</td>\n",
              "    </tr>\n",
              "    <tr>\n",
              "      <th>author_flair_text</th>\n",
              "      <td>NaN</td>\n",
              "      <td>NaN</td>\n",
              "      <td>NaN</td>\n",
              "      <td>NaN</td>\n",
              "      <td>NaN</td>\n",
              "    </tr>\n",
              "    <tr>\n",
              "      <th>body</th>\n",
              "      <td>&amp;gt;The business cannot survive paying out ben...</td>\n",
              "      <td>&amp;gt;I'm curious, how do you see, beyond defini...</td>\n",
              "      <td>&amp;gt;I'm curious, how do you see, beyond defini...</td>\n",
              "      <td>[deleted]</td>\n",
              "      <td>[deleted]</td>\n",
              "    </tr>\n",
              "    <tr>\n",
              "      <th>retrieved_on</th>\n",
              "      <td>1428217153</td>\n",
              "      <td>1428217153</td>\n",
              "      <td>1428217153</td>\n",
              "      <td>1428217153</td>\n",
              "      <td>1428217153</td>\n",
              "    </tr>\n",
              "    <tr>\n",
              "      <th>parent_id</th>\n",
              "      <td>t1_c06vdmu</td>\n",
              "      <td>t1_c06vcxp</td>\n",
              "      <td>t1_c06vcxp</td>\n",
              "      <td>t1_c06vuga</td>\n",
              "      <td>t3_7k97q</td>\n",
              "    </tr>\n",
              "    <tr>\n",
              "      <th>name</th>\n",
              "      <td>t1_2</td>\n",
              "      <td>t1_3</td>\n",
              "      <td>t1_4</td>\n",
              "      <td>t1_5</td>\n",
              "      <td>t1_6</td>\n",
              "    </tr>\n",
              "    <tr>\n",
              "      <th>archived</th>\n",
              "      <td>True</td>\n",
              "      <td>True</td>\n",
              "      <td>True</td>\n",
              "      <td>True</td>\n",
              "      <td>True</td>\n",
              "    </tr>\n",
              "    <tr>\n",
              "      <th>created_utc</th>\n",
              "      <td>1229580037</td>\n",
              "      <td>1229580041</td>\n",
              "      <td>1229580053</td>\n",
              "      <td>1229580067</td>\n",
              "      <td>1229580072</td>\n",
              "    </tr>\n",
              "  </tbody>\n",
              "</table>\n",
              "</div>"
            ],
            "text/plain": [
              "                                                                        0  ...           4\n",
              "author_flair_css_class                                                NaN  ...         NaN\n",
              "id                                                                      2  ...           6\n",
              "link_id                                                          t3_7j6z5  ...    t3_7k97q\n",
              "subreddit                                                        politics  ...  reddit.com\n",
              "author                                                         malcontent  ...   [deleted]\n",
              "score                                                                   1  ...           1\n",
              "subreddit_id                                                     t5_2cneq  ...        t5_6\n",
              "edited                                                                  0  ...           0\n",
              "author_flair_text                                                     NaN  ...         NaN\n",
              "body                    &gt;The business cannot survive paying out ben...  ...   [deleted]\n",
              "retrieved_on                                                   1428217153  ...  1428217153\n",
              "parent_id                                                      t1_c06vdmu  ...    t3_7k97q\n",
              "name                                                                 t1_2  ...        t1_6\n",
              "archived                                                             True  ...        True\n",
              "created_utc                                                    1229580037  ...  1229580072\n",
              "\n",
              "[15 rows x 5 columns]"
            ]
          },
          "metadata": {
            "tags": []
          },
          "execution_count": 10
        }
      ]
    },
    {
      "cell_type": "code",
      "metadata": {
        "colab": {
          "base_uri": "https://localhost:8080/"
        },
        "id": "hRcTNid81lbK",
        "outputId": "91c77143-8c04-492e-a655-5e366a3f7e25"
      },
      "source": [
        "df.edited.value_counts()"
      ],
      "execution_count": null,
      "outputs": [
        {
          "output_type": "execute_result",
          "data": {
            "text/plain": [
              "0             736259\n",
              "1             113429\n",
              "1369518126         2\n",
              "1369519786         2\n",
              "1369507932         2\n",
              "               ...  \n",
              "1369517842         1\n",
              "1367605687         1\n",
              "1369536792         1\n",
              "1414164088         1\n",
              "1418074161         1\n",
              "Name: edited, Length: 670, dtype: int64"
            ]
          },
          "metadata": {
            "tags": []
          },
          "execution_count": 11
        }
      ]
    },
    {
      "cell_type": "code",
      "metadata": {
        "colab": {
          "base_uri": "https://localhost:8080/"
        },
        "id": "eTgBW5EiGHe4",
        "outputId": "d20a883b-0210-4d89-b62d-839227227164"
      },
      "source": [
        "(df['author'].value_counts()<2).sum()"
      ],
      "execution_count": null,
      "outputs": [
        {
          "output_type": "execute_result",
          "data": {
            "text/plain": [
              "11870"
            ]
          },
          "metadata": {
            "tags": []
          },
          "execution_count": 12
        }
      ]
    },
    {
      "cell_type": "code",
      "metadata": {
        "colab": {
          "base_uri": "https://localhost:8080/"
        },
        "id": "Z_7aTuE_M3q4",
        "outputId": "498c7388-217a-44a3-e703-600986cee0ff"
      },
      "source": [
        "df.shape"
      ],
      "execution_count": null,
      "outputs": [
        {
          "output_type": "execute_result",
          "data": {
            "text/plain": [
              "(850359, 15)"
            ]
          },
          "metadata": {
            "tags": []
          },
          "execution_count": 13
        }
      ]
    },
    {
      "cell_type": "code",
      "metadata": {
        "id": "Ek9WxXHeMDJv"
      },
      "source": [
        "df = df[df.body != '[deleted]']\r\n",
        "df = df[df.author != '[deleted]']"
      ],
      "execution_count": null,
      "outputs": []
    },
    {
      "cell_type": "code",
      "metadata": {
        "colab": {
          "base_uri": "https://localhost:8080/"
        },
        "id": "b3z8fPnJM82i",
        "outputId": "ddb4f87e-4a61-4623-b4a0-3a41ee09003e"
      },
      "source": [
        "df.shape"
      ],
      "execution_count": null,
      "outputs": [
        {
          "output_type": "execute_result",
          "data": {
            "text/plain": [
              "(556154, 15)"
            ]
          },
          "metadata": {
            "tags": []
          },
          "execution_count": 15
        }
      ]
    },
    {
      "cell_type": "code",
      "metadata": {
        "colab": {
          "base_uri": "https://localhost:8080/",
          "height": 514
        },
        "id": "biVuTXoasvdk",
        "outputId": "fee342b7-98d2-45dd-d513-c739bba07c73"
      },
      "source": [
        "df.head().T"
      ],
      "execution_count": null,
      "outputs": [
        {
          "output_type": "execute_result",
          "data": {
            "text/html": [
              "<div>\n",
              "<style scoped>\n",
              "    .dataframe tbody tr th:only-of-type {\n",
              "        vertical-align: middle;\n",
              "    }\n",
              "\n",
              "    .dataframe tbody tr th {\n",
              "        vertical-align: top;\n",
              "    }\n",
              "\n",
              "    .dataframe thead th {\n",
              "        text-align: right;\n",
              "    }\n",
              "</style>\n",
              "<table border=\"1\" class=\"dataframe\">\n",
              "  <thead>\n",
              "    <tr style=\"text-align: right;\">\n",
              "      <th></th>\n",
              "      <th>0</th>\n",
              "      <th>1</th>\n",
              "      <th>2</th>\n",
              "      <th>5</th>\n",
              "      <th>6</th>\n",
              "    </tr>\n",
              "  </thead>\n",
              "  <tbody>\n",
              "    <tr>\n",
              "      <th>author_flair_css_class</th>\n",
              "      <td>NaN</td>\n",
              "      <td>NaN</td>\n",
              "      <td>NaN</td>\n",
              "      <td>NaN</td>\n",
              "      <td>NaN</td>\n",
              "    </tr>\n",
              "    <tr>\n",
              "      <th>id</th>\n",
              "      <td>2</td>\n",
              "      <td>3</td>\n",
              "      <td>4</td>\n",
              "      <td>7</td>\n",
              "      <td>8</td>\n",
              "    </tr>\n",
              "    <tr>\n",
              "      <th>link_id</th>\n",
              "      <td>t3_7j6z5</td>\n",
              "      <td>t3_7jlvw</td>\n",
              "      <td>t3_7jlvw</td>\n",
              "      <td>t3_7k6s5</td>\n",
              "      <td>t3_7k4fi</td>\n",
              "    </tr>\n",
              "    <tr>\n",
              "      <th>subreddit</th>\n",
              "      <td>politics</td>\n",
              "      <td>politics</td>\n",
              "      <td>politics</td>\n",
              "      <td>atheism</td>\n",
              "      <td>programming</td>\n",
              "    </tr>\n",
              "    <tr>\n",
              "      <th>author</th>\n",
              "      <td>malcontent</td>\n",
              "      <td>malcontent</td>\n",
              "      <td>malcontent</td>\n",
              "      <td>catalytica</td>\n",
              "      <td>jz_</td>\n",
              "    </tr>\n",
              "    <tr>\n",
              "      <th>score</th>\n",
              "      <td>1</td>\n",
              "      <td>1</td>\n",
              "      <td>2</td>\n",
              "      <td>0</td>\n",
              "      <td>2</td>\n",
              "    </tr>\n",
              "    <tr>\n",
              "      <th>subreddit_id</th>\n",
              "      <td>t5_2cneq</td>\n",
              "      <td>t5_2cneq</td>\n",
              "      <td>t5_2cneq</td>\n",
              "      <td>t5_2qh2p</td>\n",
              "      <td>t5_2fwo</td>\n",
              "    </tr>\n",
              "    <tr>\n",
              "      <th>edited</th>\n",
              "      <td>0</td>\n",
              "      <td>0</td>\n",
              "      <td>0</td>\n",
              "      <td>0</td>\n",
              "      <td>0</td>\n",
              "    </tr>\n",
              "    <tr>\n",
              "      <th>author_flair_text</th>\n",
              "      <td>NaN</td>\n",
              "      <td>NaN</td>\n",
              "      <td>NaN</td>\n",
              "      <td>NaN</td>\n",
              "      <td>NaN</td>\n",
              "    </tr>\n",
              "    <tr>\n",
              "      <th>body</th>\n",
              "      <td>&amp;gt;The business cannot survive paying out ben...</td>\n",
              "      <td>&amp;gt;I'm curious, how do you see, beyond defini...</td>\n",
              "      <td>&amp;gt;I'm curious, how do you see, beyond defini...</td>\n",
              "      <td>The greatest historic instigator of human divi...</td>\n",
              "      <td>Looking forward to\\n\\n* writing more tests for...</td>\n",
              "    </tr>\n",
              "    <tr>\n",
              "      <th>retrieved_on</th>\n",
              "      <td>1428217153</td>\n",
              "      <td>1428217153</td>\n",
              "      <td>1428217153</td>\n",
              "      <td>1428217153</td>\n",
              "      <td>1428217153</td>\n",
              "    </tr>\n",
              "    <tr>\n",
              "      <th>parent_id</th>\n",
              "      <td>t1_c06vdmu</td>\n",
              "      <td>t1_c06vcxp</td>\n",
              "      <td>t1_c06vcxp</td>\n",
              "      <td>t3_7k6s5</td>\n",
              "      <td>t3_7k4fi</td>\n",
              "    </tr>\n",
              "    <tr>\n",
              "      <th>name</th>\n",
              "      <td>t1_2</td>\n",
              "      <td>t1_3</td>\n",
              "      <td>t1_4</td>\n",
              "      <td>t1_7</td>\n",
              "      <td>t1_8</td>\n",
              "    </tr>\n",
              "    <tr>\n",
              "      <th>archived</th>\n",
              "      <td>True</td>\n",
              "      <td>True</td>\n",
              "      <td>True</td>\n",
              "      <td>True</td>\n",
              "      <td>True</td>\n",
              "    </tr>\n",
              "    <tr>\n",
              "      <th>created_utc</th>\n",
              "      <td>1229580037</td>\n",
              "      <td>1229580041</td>\n",
              "      <td>1229580053</td>\n",
              "      <td>1229580080</td>\n",
              "      <td>1229580084</td>\n",
              "    </tr>\n",
              "  </tbody>\n",
              "</table>\n",
              "</div>"
            ],
            "text/plain": [
              "                                                                        0  ...                                                  6\n",
              "author_flair_css_class                                                NaN  ...                                                NaN\n",
              "id                                                                      2  ...                                                  8\n",
              "link_id                                                          t3_7j6z5  ...                                           t3_7k4fi\n",
              "subreddit                                                        politics  ...                                        programming\n",
              "author                                                         malcontent  ...                                                jz_\n",
              "score                                                                   1  ...                                                  2\n",
              "subreddit_id                                                     t5_2cneq  ...                                            t5_2fwo\n",
              "edited                                                                  0  ...                                                  0\n",
              "author_flair_text                                                     NaN  ...                                                NaN\n",
              "body                    &gt;The business cannot survive paying out ben...  ...  Looking forward to\\n\\n* writing more tests for...\n",
              "retrieved_on                                                   1428217153  ...                                         1428217153\n",
              "parent_id                                                      t1_c06vdmu  ...                                           t3_7k4fi\n",
              "name                                                                 t1_2  ...                                               t1_8\n",
              "archived                                                             True  ...                                               True\n",
              "created_utc                                                    1229580037  ...                                         1229580084\n",
              "\n",
              "[15 rows x 5 columns]"
            ]
          },
          "metadata": {
            "tags": []
          },
          "execution_count": 16
        }
      ]
    },
    {
      "cell_type": "code",
      "metadata": {
        "id": "efDjyNyONoKk"
      },
      "source": [
        "import matplotlib.pyplot as plt\r\n",
        "%matplotlib inline\r\n",
        "sub=pd.DataFrame(df.subreddit.value_counts())"
      ],
      "execution_count": null,
      "outputs": []
    },
    {
      "cell_type": "code",
      "metadata": {
        "colab": {
          "base_uri": "https://localhost:8080/",
          "height": 347
        },
        "id": "JpHa2dl_vXM-",
        "outputId": "8ade3afb-eee2-4e3f-c398-9f12fc7fbbff"
      },
      "source": [
        "sub[:10]"
      ],
      "execution_count": null,
      "outputs": [
        {
          "output_type": "execute_result",
          "data": {
            "text/html": [
              "<div>\n",
              "<style scoped>\n",
              "    .dataframe tbody tr th:only-of-type {\n",
              "        vertical-align: middle;\n",
              "    }\n",
              "\n",
              "    .dataframe tbody tr th {\n",
              "        vertical-align: top;\n",
              "    }\n",
              "\n",
              "    .dataframe thead th {\n",
              "        text-align: right;\n",
              "    }\n",
              "</style>\n",
              "<table border=\"1\" class=\"dataframe\">\n",
              "  <thead>\n",
              "    <tr style=\"text-align: right;\">\n",
              "      <th></th>\n",
              "      <th>subreddit</th>\n",
              "    </tr>\n",
              "  </thead>\n",
              "  <tbody>\n",
              "    <tr>\n",
              "      <th>reddit.com</th>\n",
              "      <td>77196</td>\n",
              "    </tr>\n",
              "    <tr>\n",
              "      <th>politics</th>\n",
              "      <td>46220</td>\n",
              "    </tr>\n",
              "    <tr>\n",
              "      <th>AskReddit</th>\n",
              "      <td>38989</td>\n",
              "    </tr>\n",
              "    <tr>\n",
              "      <th>programming</th>\n",
              "      <td>33758</td>\n",
              "    </tr>\n",
              "    <tr>\n",
              "      <th>WTF</th>\n",
              "      <td>33746</td>\n",
              "    </tr>\n",
              "    <tr>\n",
              "      <th>pics</th>\n",
              "      <td>32837</td>\n",
              "    </tr>\n",
              "    <tr>\n",
              "      <th>worldnews</th>\n",
              "      <td>28773</td>\n",
              "    </tr>\n",
              "    <tr>\n",
              "      <th>funny</th>\n",
              "      <td>23904</td>\n",
              "    </tr>\n",
              "    <tr>\n",
              "      <th>science</th>\n",
              "      <td>23682</td>\n",
              "    </tr>\n",
              "    <tr>\n",
              "      <th>atheism</th>\n",
              "      <td>23024</td>\n",
              "    </tr>\n",
              "  </tbody>\n",
              "</table>\n",
              "</div>"
            ],
            "text/plain": [
              "             subreddit\n",
              "reddit.com       77196\n",
              "politics         46220\n",
              "AskReddit        38989\n",
              "programming      33758\n",
              "WTF              33746\n",
              "pics             32837\n",
              "worldnews        28773\n",
              "funny            23904\n",
              "science          23682\n",
              "atheism          23024"
            ]
          },
          "metadata": {
            "tags": []
          },
          "execution_count": 18
        }
      ]
    },
    {
      "cell_type": "code",
      "metadata": {
        "id": "DedWYHfEy5YG"
      },
      "source": [
        "subreddit_list=[\"politics\"]\r\n",
        "df= df[df.subreddit.isin(subreddit_list)]"
      ],
      "execution_count": null,
      "outputs": []
    },
    {
      "cell_type": "code",
      "metadata": {
        "colab": {
          "base_uri": "https://localhost:8080/"
        },
        "id": "N5Tne5T0zmpH",
        "outputId": "d01a0f32-fa97-4cc3-8761-0c3fb12ba405"
      },
      "source": [
        "df.shape"
      ],
      "execution_count": null,
      "outputs": [
        {
          "output_type": "execute_result",
          "data": {
            "text/plain": [
              "(46220, 15)"
            ]
          },
          "metadata": {
            "tags": []
          },
          "execution_count": 20
        }
      ]
    },
    {
      "cell_type": "code",
      "metadata": {
        "colab": {
          "base_uri": "https://localhost:8080/",
          "height": 291
        },
        "id": "_CoBZ5S-z9KA",
        "outputId": "bad4421d-1b06-4429-cfd2-f2da553fc8f7"
      },
      "source": [
        "df.subreddit.value_counts().plot(kind=\"bar\")\r\n",
        "plt.show()"
      ],
      "execution_count": null,
      "outputs": [
        {
          "output_type": "display_data",
          "data": {
            "image/png": "[encoded data removed]",
            "text/plain": [
              "<Figure size 432x288 with 1 Axes>"
            ]
          },
          "metadata": {
            "tags": [],
            "needs_background": "light"
          }
        }
      ]
    },
    {
      "cell_type": "code",
      "metadata": {
        "colab": {
          "base_uri": "https://localhost:8080/",
          "height": 514
        },
        "id": "ygmfPd0H0dgc",
        "outputId": "70d481e2-10fd-47ae-c0f3-6080ed7429ce"
      },
      "source": [
        "df.head().T"
      ],
      "execution_count": null,
      "outputs": [
        {
          "output_type": "execute_result",
          "data": {
            "text/html": [
              "<div>\n",
              "<style scoped>\n",
              "    .dataframe tbody tr th:only-of-type {\n",
              "        vertical-align: middle;\n",
              "    }\n",
              "\n",
              "    .dataframe tbody tr th {\n",
              "        vertical-align: top;\n",
              "    }\n",
              "\n",
              "    .dataframe thead th {\n",
              "        text-align: right;\n",
              "    }\n",
              "</style>\n",
              "<table border=\"1\" class=\"dataframe\">\n",
              "  <thead>\n",
              "    <tr style=\"text-align: right;\">\n",
              "      <th></th>\n",
              "      <th>0</th>\n",
              "      <th>1</th>\n",
              "      <th>2</th>\n",
              "      <th>39</th>\n",
              "      <th>59</th>\n",
              "    </tr>\n",
              "  </thead>\n",
              "  <tbody>\n",
              "    <tr>\n",
              "      <th>author_flair_css_class</th>\n",
              "      <td>NaN</td>\n",
              "      <td>NaN</td>\n",
              "      <td>NaN</td>\n",
              "      <td>NaN</td>\n",
              "      <td>NaN</td>\n",
              "    </tr>\n",
              "    <tr>\n",
              "      <th>id</th>\n",
              "      <td>2</td>\n",
              "      <td>3</td>\n",
              "      <td>4</td>\n",
              "      <td>16</td>\n",
              "      <td>1q</td>\n",
              "    </tr>\n",
              "    <tr>\n",
              "      <th>link_id</th>\n",
              "      <td>t3_7j6z5</td>\n",
              "      <td>t3_7jlvw</td>\n",
              "      <td>t3_7jlvw</td>\n",
              "      <td>t3_7k6cl</td>\n",
              "      <td>t3_7k8ct</td>\n",
              "    </tr>\n",
              "    <tr>\n",
              "      <th>subreddit</th>\n",
              "      <td>politics</td>\n",
              "      <td>politics</td>\n",
              "      <td>politics</td>\n",
              "      <td>politics</td>\n",
              "      <td>politics</td>\n",
              "    </tr>\n",
              "    <tr>\n",
              "      <th>author</th>\n",
              "      <td>malcontent</td>\n",
              "      <td>malcontent</td>\n",
              "      <td>malcontent</td>\n",
              "      <td>njharman</td>\n",
              "      <td>ZippyDan</td>\n",
              "    </tr>\n",
              "    <tr>\n",
              "      <th>score</th>\n",
              "      <td>1</td>\n",
              "      <td>1</td>\n",
              "      <td>2</td>\n",
              "      <td>4</td>\n",
              "      <td>3</td>\n",
              "    </tr>\n",
              "    <tr>\n",
              "      <th>subreddit_id</th>\n",
              "      <td>t5_2cneq</td>\n",
              "      <td>t5_2cneq</td>\n",
              "      <td>t5_2cneq</td>\n",
              "      <td>t5_2cneq</td>\n",
              "      <td>t5_2cneq</td>\n",
              "    </tr>\n",
              "    <tr>\n",
              "      <th>edited</th>\n",
              "      <td>0</td>\n",
              "      <td>0</td>\n",
              "      <td>0</td>\n",
              "      <td>0</td>\n",
              "      <td>0</td>\n",
              "    </tr>\n",
              "    <tr>\n",
              "      <th>author_flair_text</th>\n",
              "      <td>NaN</td>\n",
              "      <td>NaN</td>\n",
              "      <td>NaN</td>\n",
              "      <td>NaN</td>\n",
              "      <td>NaN</td>\n",
              "    </tr>\n",
              "    <tr>\n",
              "      <th>body</th>\n",
              "      <td>&amp;gt;The business cannot survive paying out ben...</td>\n",
              "      <td>&amp;gt;I'm curious, how do you see, beyond defini...</td>\n",
              "      <td>&amp;gt;I'm curious, how do you see, beyond defini...</td>\n",
              "      <td>Nope.  Because we aren't gonna hold them accou...</td>\n",
              "      <td>Or alternative scenario: the opposite of what ...</td>\n",
              "    </tr>\n",
              "    <tr>\n",
              "      <th>retrieved_on</th>\n",
              "      <td>1428217153</td>\n",
              "      <td>1428217153</td>\n",
              "      <td>1428217153</td>\n",
              "      <td>1428217153</td>\n",
              "      <td>1428217153</td>\n",
              "    </tr>\n",
              "    <tr>\n",
              "      <th>parent_id</th>\n",
              "      <td>t1_c06vdmu</td>\n",
              "      <td>t1_c06vcxp</td>\n",
              "      <td>t1_c06vcxp</td>\n",
              "      <td>t3_7k6cl</td>\n",
              "      <td>t1_c06vwnw</td>\n",
              "    </tr>\n",
              "    <tr>\n",
              "      <th>name</th>\n",
              "      <td>t1_2</td>\n",
              "      <td>t1_3</td>\n",
              "      <td>t1_4</td>\n",
              "      <td>t1_16</td>\n",
              "      <td>t1_1q</td>\n",
              "    </tr>\n",
              "    <tr>\n",
              "      <th>archived</th>\n",
              "      <td>True</td>\n",
              "      <td>True</td>\n",
              "      <td>True</td>\n",
              "      <td>True</td>\n",
              "      <td>True</td>\n",
              "    </tr>\n",
              "    <tr>\n",
              "      <th>created_utc</th>\n",
              "      <td>1229580037</td>\n",
              "      <td>1229580041</td>\n",
              "      <td>1229580053</td>\n",
              "      <td>1229580299</td>\n",
              "      <td>1229580382</td>\n",
              "    </tr>\n",
              "  </tbody>\n",
              "</table>\n",
              "</div>"
            ],
            "text/plain": [
              "                                                                       0   ...                                                 59\n",
              "author_flair_css_class                                                NaN  ...                                                NaN\n",
              "id                                                                      2  ...                                                 1q\n",
              "link_id                                                          t3_7j6z5  ...                                           t3_7k8ct\n",
              "subreddit                                                        politics  ...                                           politics\n",
              "author                                                         malcontent  ...                                           ZippyDan\n",
              "score                                                                   1  ...                                                  3\n",
              "subreddit_id                                                     t5_2cneq  ...                                           t5_2cneq\n",
              "edited                                                                  0  ...                                                  0\n",
              "author_flair_text                                                     NaN  ...                                                NaN\n",
              "body                    &gt;The business cannot survive paying out ben...  ...  Or alternative scenario: the opposite of what ...\n",
              "retrieved_on                                                   1428217153  ...                                         1428217153\n",
              "parent_id                                                      t1_c06vdmu  ...                                         t1_c06vwnw\n",
              "name                                                                 t1_2  ...                                              t1_1q\n",
              "archived                                                             True  ...                                               True\n",
              "created_utc                                                    1229580037  ...                                         1229580382\n",
              "\n",
              "[15 rows x 5 columns]"
            ]
          },
          "metadata": {
            "tags": []
          },
          "execution_count": 22
        }
      ]
    },
    {
      "cell_type": "code",
      "metadata": {
        "colab": {
          "base_uri": "https://localhost:8080/"
        },
        "id": "74Fki6Qd0vOR",
        "outputId": "c0d13ce1-5c2c-460c-95f9-ccb93931c44d"
      },
      "source": [
        "t= (df.retrieved_on - df.created_utc) / 60 / 60\r\n",
        "t.min()"
      ],
      "execution_count": null,
      "outputs": [
        {
          "output_type": "execute_result",
          "data": {
            "text/plain": [
              "54536.24083333334"
            ]
          },
          "metadata": {
            "tags": []
          },
          "execution_count": 23
        }
      ]
    },
    {
      "cell_type": "code",
      "metadata": {
        "id": "C8179-jz2pfF"
      },
      "source": [
        "df.author_flair_css_class.replace(to_replace=np.NAN, value=\"None\", inplace=True)\r\n",
        "df.author_flair_text.replace(to_replace=np.NAN, value=\"None\", inplace=True)"
      ],
      "execution_count": null,
      "outputs": []
    },
    {
      "cell_type": "code",
      "metadata": {
        "id": "fJ5-YSWa3pcW"
      },
      "source": [
        "df[\"time\"]= pd.to_datetime(df.created_utc, unit='s')"
      ],
      "execution_count": null,
      "outputs": []
    },
    {
      "cell_type": "code",
      "metadata": {
        "id": "ymK-qo744dFR"
      },
      "source": [
        "df_first_comment = df[['link_id', 'time']].groupby(by=['link_id']).min()\r\n",
        "\r\n",
        "# Create a dictionary of {link_id -> timestamp} pairs\r\n",
        "df_first_comment_dict = df_first_comment.to_dict('index')\r\n",
        "\r\n",
        "# Funct that takes in {link_id, timestamp} pair & returns the time elapsed since the first comment in that link_id.\r\n",
        "def time_lapse(x):\r\n",
        "    return df_first_comment_dict[x]['time']\r\n",
        "\r\n",
        "# Add a column of the time_elapsed from the first comment in a link_id\r\n",
        "df['time_lapse'] = df.time - df.link_id.apply(time_lapse)\r\n",
        "\r\n",
        "# Convert the type of time_lapse back to seconds\r\n",
        "df.time_lapse = df.time_lapse.apply(lambda x: x.total_seconds())\r\n",
        "\r\n",
        "df['hour_of_comment'] = df.time.apply(lambda x: x.hour)\r\n",
        "df['weekday'] = df.time.dt.weekday"
      ],
      "execution_count": null,
      "outputs": []
    },
    {
      "cell_type": "code",
      "metadata": {
        "colab": {
          "base_uri": "https://localhost:8080/"
        },
        "id": "ogEDfsdS5Ea_",
        "outputId": "9f2ef507-2c41-47f2-accd-4409b410220d"
      },
      "source": [
        "len(df.link_id)/len(df.link_id.unique())"
      ],
      "execution_count": null,
      "outputs": [
        {
          "output_type": "execute_result",
          "data": {
            "text/plain": [
              "8.589481509013195"
            ]
          },
          "metadata": {
            "tags": []
          },
          "execution_count": 27
        }
      ]
    },
    {
      "cell_type": "code",
      "metadata": {
        "colab": {
          "base_uri": "https://localhost:8080/",
          "height": 267
        },
        "id": "q9KKWNXC6aPJ",
        "outputId": "aa8c90d8-ab0d-43e3-8b17-5f99cd3b8468"
      },
      "source": [
        "((df.time_lapse/(60*60)).hist(bins=600).set_xlim(0,80));"
      ],
      "execution_count": null,
      "outputs": [
        {
          "output_type": "display_data",
          "data": {
            "image/png": "[encoded data removed]",
            "text/plain": [
              "<Figure size 432x288 with 1 Axes>"
            ]
          },
          "metadata": {
            "tags": [],
            "needs_background": "light"
          }
        }
      ]
    },
    {
      "cell_type": "code",
      "metadata": {
        "id": "2Nw4LP8G7Jav"
      },
      "source": [
        "df[\"is_flair\"]= ~df.author_flair_text.apply(lambda x: x is \"None\")\r\n",
        "df[\"is_flair_css\"]= ~df.author_flair_css_class.apply(lambda x: x is \"None\")"
      ],
      "execution_count": null,
      "outputs": []
    },
    {
      "cell_type": "code",
      "metadata": {
        "id": "4wpuHRVV_Uk8"
      },
      "source": [
        "def pd_to_dict(df, index='', column=''):\r\n",
        "    return pd.Series(df[column].values, index=df[index]).to_dict()\r\n",
        "\r\n",
        "comment_to_parent_dict = pd_to_dict(df[['name', 'parent_id']],\r\n",
        "                                    index='name', column='parent_id')\r\n",
        "\r\n",
        "def get_depth(x):\r\n",
        "    counter = 0\r\n",
        "    temp = x\r\n",
        "    while True:\r\n",
        "        if temp[:3] == 't3_':\r\n",
        "            return counter\r\n",
        "        try:\r\n",
        "            temp = comment_to_parent_dict[temp]\r\n",
        "        except KeyError:\r\n",
        "            return counter\r\n",
        "        counter += 1\r\n",
        "        \r\n",
        "df['depth'] = df['name'].apply(get_depth)\r\n",
        "comment_to_score = pd_to_dict(df[['name', 'score']],\r\n",
        "                              index='name', column='score')\r\n",
        "\r\n",
        "def get_parent_score(x):\r\n",
        "    try:\r\n",
        "        return comment_to_score[x]\r\n",
        "    except:\r\n",
        "        return np.nan\r\n",
        "\r\n",
        "df['parent_score'] = df.parent_id.apply(lambda x: get_parent_score(x))\r\n",
        "# imp_val = df.parent_score.median()\r\n",
        "# df.parent_score.fillna(imp_val, inplace=True)\r\n",
        "\r\n",
        "comment_to_time = pd_to_dict(df[['name', 'time']],\r\n",
        "                              index='name', column='time')\r\n",
        "\r\n",
        "def get_time_since_parent(pi):\r\n",
        "    try:\r\n",
        "        return comment_to_time[pi]\r\n",
        "    except:\r\n",
        "        return np.nan\r\n",
        "\r\n",
        "df['time_since_parent'] = df.parent_id.apply(get_time_since_parent)\r\n",
        "df.loc[df.time_since_parent.isna(), 'time_since_parent'] = df.time\r\n",
        "df.time_since_parent = df.time - df.time_since_parent\r\n",
        "df.time_since_parent = df.time_since_parent.apply(lambda x: x.total_seconds())"
      ],
      "execution_count": null,
      "outputs": []
    },
    {
      "cell_type": "code",
      "metadata": {
        "colab": {
          "base_uri": "https://localhost:8080/"
        },
        "id": "BDriLKdP_aZP",
        "outputId": "b8287dc2-7a57-4bd0-beb6-6608c15a63e7"
      },
      "source": [
        "sum(df.parent_score != df.parent_score) / len(df.parent_score)"
      ],
      "execution_count": null,
      "outputs": [
        {
          "output_type": "execute_result",
          "data": {
            "text/plain": [
              "0.54524015577672"
            ]
          },
          "metadata": {
            "tags": []
          },
          "execution_count": 31
        }
      ]
    },
    {
      "cell_type": "code",
      "metadata": {
        "id": "zfKB5LHZ_duP"
      },
      "source": [
        "def get_comment_tree_root(x):\r\n",
        "    if comment_to_parent_dict[x][:3] == 't3_':\r\n",
        "        return x\r\n",
        "    try:\r\n",
        "        return get_comment_tree_root(comment_to_parent_dict[x])\r\n",
        "    except KeyError:\r\n",
        "        return np.nan\r\n",
        "    \r\n",
        "comment_to_time = pd_to_dict(df[['name', 'time']],\r\n",
        "                              index='name', column='time')\r\n",
        "\r\n",
        "def get_time(x):\r\n",
        "    try:\r\n",
        "        return comment_to_time[x]\r\n",
        "    except:\r\n",
        "        return np.nan\r\n",
        "    \r\n",
        "df['comment_tree_root_id'] = df.name.apply(get_comment_tree_root)\r\n",
        "df['comment_tree_root_score'] = df.comment_tree_root_id.apply(lambda x: get_parent_score(x))\r\n",
        "df['time_since_comment_tree_root'] = df.time - df.comment_tree_root_id.apply(get_time)\r\n",
        "df.time_since_comment_tree_root = df.time_since_comment_tree_root.apply(lambda x: x.total_seconds())"
      ],
      "execution_count": null,
      "outputs": []
    },
    {
      "cell_type": "code",
      "metadata": {
        "colab": {
          "base_uri": "https://localhost:8080/"
        },
        "id": "fbgaYxWf_lQm",
        "outputId": "70172884-fc84-43b0-b587-2931dd4064c3"
      },
      "source": [
        "print(sum(df.comment_tree_root_id == df.name) / len(df.depth))"
      ],
      "execution_count": null,
      "outputs": [
        {
          "output_type": "stream",
          "text": [
            "0.3723063608827347\n"
          ],
          "name": "stdout"
        }
      ]
    },
    {
      "cell_type": "code",
      "metadata": {
        "colab": {
          "base_uri": "https://localhost:8080/"
        },
        "id": "-b3V8rzEFAni",
        "outputId": "fd08bbcd-b502-4d58-f9fc-2eb6a312d224"
      },
      "source": [
        "df.isna().sum()"
      ],
      "execution_count": null,
      "outputs": [
        {
          "output_type": "execute_result",
          "data": {
            "text/plain": [
              "author_flair_css_class              0\n",
              "id                                  0\n",
              "link_id                             0\n",
              "subreddit                           0\n",
              "author                              0\n",
              "score                               0\n",
              "subreddit_id                        0\n",
              "edited                              0\n",
              "author_flair_text                   0\n",
              "body                                0\n",
              "retrieved_on                        0\n",
              "parent_id                           0\n",
              "name                                0\n",
              "archived                            0\n",
              "created_utc                         0\n",
              "time                                0\n",
              "time_lapse                          0\n",
              "hour_of_comment                     0\n",
              "weekday                             0\n",
              "is_flair                            0\n",
              "is_flair_css                        0\n",
              "depth                               0\n",
              "parent_score                    25201\n",
              "time_since_parent                   0\n",
              "comment_tree_root_id            13125\n",
              "comment_tree_root_score         13125\n",
              "time_since_comment_tree_root    13125\n",
              "dtype: int64"
            ]
          },
          "metadata": {
            "tags": []
          },
          "execution_count": 34
        }
      ]
    },
    {
      "cell_type": "code",
      "metadata": {
        "colab": {
          "base_uri": "https://localhost:8080/",
          "height": 294
        },
        "id": "3od2Cx8iKkJk",
        "outputId": "ffda798f-b0a9-4ccb-ec8a-0d303e5b620e"
      },
      "source": [
        "df[\"time_since_comment_tree_root\"].plot(kind=\"box\")\r\n",
        " "
      ],
      "execution_count": null,
      "outputs": [
        {
          "output_type": "execute_result",
          "data": {
            "text/plain": [
              "<matplotlib.axes._subplots.AxesSubplot at 0x7fd74f3fa0f0>"
            ]
          },
          "metadata": {
            "tags": []
          },
          "execution_count": 35
        },
        {
          "output_type": "display_data",
          "data": {
            "image/png": "[encoded data removed]",
            "text/plain": [
              "<Figure size 432x288 with 1 Axes>"
            ]
          },
          "metadata": {
            "tags": [],
            "needs_background": "light"
          }
        }
      ]
    },
    {
      "cell_type": "code",
      "metadata": {
        "id": "2WcptTwiFJQL"
      },
      "source": [
        "df[\"parent_score\"] = df.parent_score.transform(lambda x : x.fillna(x.median()))\r\n",
        "df[\"comment_tree_root_score\"] = df.comment_tree_root_score.transform(lambda x : x.fillna(x.median()))\r\n",
        "df[\"time_since_comment_tree_root\"] = df.time_since_comment_tree_root.transform(lambda x : x.fillna(x.median()))\r\n"
      ],
      "execution_count": null,
      "outputs": []
    },
    {
      "cell_type": "code",
      "metadata": {
        "colab": {
          "base_uri": "https://localhost:8080/",
          "height": 874
        },
        "id": "z3eYASypFuiG",
        "outputId": "6db3fc85-0d4f-4f37-f1fc-29f44be83a70"
      },
      "source": [
        "df.head().T"
      ],
      "execution_count": null,
      "outputs": [
        {
          "output_type": "execute_result",
          "data": {
            "text/html": [
              "<div>\n",
              "<style scoped>\n",
              "    .dataframe tbody tr th:only-of-type {\n",
              "        vertical-align: middle;\n",
              "    }\n",
              "\n",
              "    .dataframe tbody tr th {\n",
              "        vertical-align: top;\n",
              "    }\n",
              "\n",
              "    .dataframe thead th {\n",
              "        text-align: right;\n",
              "    }\n",
              "</style>\n",
              "<table border=\"1\" class=\"dataframe\">\n",
              "  <thead>\n",
              "    <tr style=\"text-align: right;\">\n",
              "      <th></th>\n",
              "      <th>0</th>\n",
              "      <th>1</th>\n",
              "      <th>2</th>\n",
              "      <th>39</th>\n",
              "      <th>59</th>\n",
              "    </tr>\n",
              "  </thead>\n",
              "  <tbody>\n",
              "    <tr>\n",
              "      <th>author_flair_css_class</th>\n",
              "      <td>None</td>\n",
              "      <td>None</td>\n",
              "      <td>None</td>\n",
              "      <td>None</td>\n",
              "      <td>None</td>\n",
              "    </tr>\n",
              "    <tr>\n",
              "      <th>id</th>\n",
              "      <td>2</td>\n",
              "      <td>3</td>\n",
              "      <td>4</td>\n",
              "      <td>16</td>\n",
              "      <td>1q</td>\n",
              "    </tr>\n",
              "    <tr>\n",
              "      <th>link_id</th>\n",
              "      <td>t3_7j6z5</td>\n",
              "      <td>t3_7jlvw</td>\n",
              "      <td>t3_7jlvw</td>\n",
              "      <td>t3_7k6cl</td>\n",
              "      <td>t3_7k8ct</td>\n",
              "    </tr>\n",
              "    <tr>\n",
              "      <th>subreddit</th>\n",
              "      <td>politics</td>\n",
              "      <td>politics</td>\n",
              "      <td>politics</td>\n",
              "      <td>politics</td>\n",
              "      <td>politics</td>\n",
              "    </tr>\n",
              "    <tr>\n",
              "      <th>author</th>\n",
              "      <td>malcontent</td>\n",
              "      <td>malcontent</td>\n",
              "      <td>malcontent</td>\n",
              "      <td>njharman</td>\n",
              "      <td>ZippyDan</td>\n",
              "    </tr>\n",
              "    <tr>\n",
              "      <th>score</th>\n",
              "      <td>1</td>\n",
              "      <td>1</td>\n",
              "      <td>2</td>\n",
              "      <td>4</td>\n",
              "      <td>3</td>\n",
              "    </tr>\n",
              "    <tr>\n",
              "      <th>subreddit_id</th>\n",
              "      <td>t5_2cneq</td>\n",
              "      <td>t5_2cneq</td>\n",
              "      <td>t5_2cneq</td>\n",
              "      <td>t5_2cneq</td>\n",
              "      <td>t5_2cneq</td>\n",
              "    </tr>\n",
              "    <tr>\n",
              "      <th>edited</th>\n",
              "      <td>0</td>\n",
              "      <td>0</td>\n",
              "      <td>0</td>\n",
              "      <td>0</td>\n",
              "      <td>0</td>\n",
              "    </tr>\n",
              "    <tr>\n",
              "      <th>author_flair_text</th>\n",
              "      <td>None</td>\n",
              "      <td>None</td>\n",
              "      <td>None</td>\n",
              "      <td>None</td>\n",
              "      <td>None</td>\n",
              "    </tr>\n",
              "    <tr>\n",
              "      <th>body</th>\n",
              "      <td>&amp;gt;The business cannot survive paying out ben...</td>\n",
              "      <td>&amp;gt;I'm curious, how do you see, beyond defini...</td>\n",
              "      <td>&amp;gt;I'm curious, how do you see, beyond defini...</td>\n",
              "      <td>Nope.  Because we aren't gonna hold them accou...</td>\n",
              "      <td>Or alternative scenario: the opposite of what ...</td>\n",
              "    </tr>\n",
              "    <tr>\n",
              "      <th>retrieved_on</th>\n",
              "      <td>1428217153</td>\n",
              "      <td>1428217153</td>\n",
              "      <td>1428217153</td>\n",
              "      <td>1428217153</td>\n",
              "      <td>1428217153</td>\n",
              "    </tr>\n",
              "    <tr>\n",
              "      <th>parent_id</th>\n",
              "      <td>t1_c06vdmu</td>\n",
              "      <td>t1_c06vcxp</td>\n",
              "      <td>t1_c06vcxp</td>\n",
              "      <td>t3_7k6cl</td>\n",
              "      <td>t1_c06vwnw</td>\n",
              "    </tr>\n",
              "    <tr>\n",
              "      <th>name</th>\n",
              "      <td>t1_2</td>\n",
              "      <td>t1_3</td>\n",
              "      <td>t1_4</td>\n",
              "      <td>t1_16</td>\n",
              "      <td>t1_1q</td>\n",
              "    </tr>\n",
              "    <tr>\n",
              "      <th>archived</th>\n",
              "      <td>True</td>\n",
              "      <td>True</td>\n",
              "      <td>True</td>\n",
              "      <td>True</td>\n",
              "      <td>True</td>\n",
              "    </tr>\n",
              "    <tr>\n",
              "      <th>created_utc</th>\n",
              "      <td>1229580037</td>\n",
              "      <td>1229580041</td>\n",
              "      <td>1229580053</td>\n",
              "      <td>1229580299</td>\n",
              "      <td>1229580382</td>\n",
              "    </tr>\n",
              "    <tr>\n",
              "      <th>time</th>\n",
              "      <td>2008-12-18 06:00:37</td>\n",
              "      <td>2008-12-18 06:00:41</td>\n",
              "      <td>2008-12-18 06:00:53</td>\n",
              "      <td>2008-12-18 06:04:59</td>\n",
              "      <td>2008-12-18 06:06:22</td>\n",
              "    </tr>\n",
              "    <tr>\n",
              "      <th>time_lapse</th>\n",
              "      <td>440878</td>\n",
              "      <td>216480</td>\n",
              "      <td>216492</td>\n",
              "      <td>30807</td>\n",
              "      <td>11319</td>\n",
              "    </tr>\n",
              "    <tr>\n",
              "      <th>hour_of_comment</th>\n",
              "      <td>6</td>\n",
              "      <td>6</td>\n",
              "      <td>6</td>\n",
              "      <td>6</td>\n",
              "      <td>6</td>\n",
              "    </tr>\n",
              "    <tr>\n",
              "      <th>weekday</th>\n",
              "      <td>3</td>\n",
              "      <td>3</td>\n",
              "      <td>3</td>\n",
              "      <td>3</td>\n",
              "      <td>3</td>\n",
              "    </tr>\n",
              "    <tr>\n",
              "      <th>is_flair</th>\n",
              "      <td>False</td>\n",
              "      <td>False</td>\n",
              "      <td>False</td>\n",
              "      <td>False</td>\n",
              "      <td>False</td>\n",
              "    </tr>\n",
              "    <tr>\n",
              "      <th>is_flair_css</th>\n",
              "      <td>False</td>\n",
              "      <td>False</td>\n",
              "      <td>False</td>\n",
              "      <td>False</td>\n",
              "      <td>False</td>\n",
              "    </tr>\n",
              "    <tr>\n",
              "      <th>depth</th>\n",
              "      <td>21</td>\n",
              "      <td>12</td>\n",
              "      <td>12</td>\n",
              "      <td>1</td>\n",
              "      <td>3</td>\n",
              "    </tr>\n",
              "    <tr>\n",
              "      <th>parent_score</th>\n",
              "      <td>0</td>\n",
              "      <td>1</td>\n",
              "      <td>1</td>\n",
              "      <td>2</td>\n",
              "      <td>4</td>\n",
              "    </tr>\n",
              "    <tr>\n",
              "      <th>time_since_parent</th>\n",
              "      <td>56197</td>\n",
              "      <td>59249</td>\n",
              "      <td>59261</td>\n",
              "      <td>0</td>\n",
              "      <td>1328</td>\n",
              "    </tr>\n",
              "    <tr>\n",
              "      <th>comment_tree_root_id</th>\n",
              "      <td>NaN</td>\n",
              "      <td>t1_c06u60d</td>\n",
              "      <td>t1_c06u60d</td>\n",
              "      <td>t1_16</td>\n",
              "      <td>t1_c06vuiz</td>\n",
              "    </tr>\n",
              "    <tr>\n",
              "      <th>comment_tree_root_score</th>\n",
              "      <td>2</td>\n",
              "      <td>0</td>\n",
              "      <td>0</td>\n",
              "      <td>4</td>\n",
              "      <td>4</td>\n",
              "    </tr>\n",
              "    <tr>\n",
              "      <th>time_since_comment_tree_root</th>\n",
              "      <td>0</td>\n",
              "      <td>212687</td>\n",
              "      <td>212699</td>\n",
              "      <td>0</td>\n",
              "      <td>9182</td>\n",
              "    </tr>\n",
              "  </tbody>\n",
              "</table>\n",
              "</div>"
            ],
            "text/plain": [
              "                                                                             0   ...                                                 59\n",
              "author_flair_css_class                                                     None  ...                                               None\n",
              "id                                                                            2  ...                                                 1q\n",
              "link_id                                                                t3_7j6z5  ...                                           t3_7k8ct\n",
              "subreddit                                                              politics  ...                                           politics\n",
              "author                                                               malcontent  ...                                           ZippyDan\n",
              "score                                                                         1  ...                                                  3\n",
              "subreddit_id                                                           t5_2cneq  ...                                           t5_2cneq\n",
              "edited                                                                        0  ...                                                  0\n",
              "author_flair_text                                                          None  ...                                               None\n",
              "body                          &gt;The business cannot survive paying out ben...  ...  Or alternative scenario: the opposite of what ...\n",
              "retrieved_on                                                         1428217153  ...                                         1428217153\n",
              "parent_id                                                            t1_c06vdmu  ...                                         t1_c06vwnw\n",
              "name                                                                       t1_2  ...                                              t1_1q\n",
              "archived                                                                   True  ...                                               True\n",
              "created_utc                                                          1229580037  ...                                         1229580382\n",
              "time                                                        2008-12-18 06:00:37  ...                                2008-12-18 06:06:22\n",
              "time_lapse                                                               440878  ...                                              11319\n",
              "hour_of_comment                                                               6  ...                                                  6\n",
              "weekday                                                                       3  ...                                                  3\n",
              "is_flair                                                                  False  ...                                              False\n",
              "is_flair_css                                                              False  ...                                              False\n",
              "depth                                                                        21  ...                                                  3\n",
              "parent_score                                                                  0  ...                                                  4\n",
              "time_since_parent                                                         56197  ...                                               1328\n",
              "comment_tree_root_id                                                        NaN  ...                                         t1_c06vuiz\n",
              "comment_tree_root_score                                                       2  ...                                                  4\n",
              "time_since_comment_tree_root                                                  0  ...                                               9182\n",
              "\n",
              "[27 rows x 5 columns]"
            ]
          },
          "metadata": {
            "tags": []
          },
          "execution_count": 37
        }
      ]
    },
    {
      "cell_type": "code",
      "metadata": {
        "id": "J_JXZxmfDgmX"
      },
      "source": [
        "df['word_count']=df['body'].apply(lambda x : len(x.split()))"
      ],
      "execution_count": null,
      "outputs": []
    },
    {
      "cell_type": "code",
      "metadata": {
        "id": "ZzUVfNNjOFvV"
      },
      "source": [
        "df[\"author\"]=df.author.map(df.author.value_counts())"
      ],
      "execution_count": null,
      "outputs": []
    },
    {
      "cell_type": "code",
      "metadata": {
        "id": "dIZSHmsyFVAO"
      },
      "source": [
        "numeric_cols=[\"time_lapse\", \"hour_of_comment\", \"weekday\", \"word_count\",\"depth\", \"parent_score\", \"time_since_parent\", \"comment_tree_root_score\", \"time_since_comment_tree_root\"]\r\n",
        "cat_cols=[\"subreddit\"]\r\n",
        "bool_cols=[\"is_flair_css\", \"is_flair\", \"archived\"]"
      ],
      "execution_count": null,
      "outputs": []
    },
    {
      "cell_type": "code",
      "metadata": {
        "id": "rtPR5pQ7YETV",
        "colab": {
          "base_uri": "https://localhost:8080/",
          "height": 35
        },
        "outputId": "ed4598ae-3353-4733-b9b4-547b69a1b89b"
      },
      "source": [
        "\"\"\"\r\n",
        "from sklearn.preprocessing import LabelBinarizer, MultiLabelBinarizer\r\n",
        "\r\n",
        "lb = LabelBinarizer()\r\n",
        "\r\n",
        "df[\"subreddit\"]=lb.fit_transform(df.subreddit)\r\n",
        "\"\"\""
      ],
      "execution_count": null,
      "outputs": [
        {
          "output_type": "execute_result",
          "data": {
            "application/vnd.google.colaboratory.intrinsic+json": {
              "type": "string"
            },
            "text/plain": [
              "'\\nfrom sklearn.preprocessing import LabelBinarizer, MultiLabelBinarizer\\n\\nlb = LabelBinarizer()\\n\\ndf[\"subreddit\"]=lb.fit_transform(df.subreddit)\\n'"
            ]
          },
          "metadata": {
            "tags": []
          },
          "execution_count": 41
        }
      ]
    },
    {
      "cell_type": "code",
      "metadata": {
        "id": "dU4Hek-BYM6p"
      },
      "source": [
        "#df.subreddit.value_counts()"
      ],
      "execution_count": null,
      "outputs": []
    },
    {
      "cell_type": "code",
      "metadata": {
        "id": "8IqebgnKMzC_"
      },
      "source": [
        "df[\"is_flair_css\"]=(df[\"is_flair_css\"]).astype('int')\r\n",
        "df[\"is_flair\"]=(df[\"is_flair\"]).astype('int')\r\n",
        "df[\"archived\"]=(df[\"archived\"]).astype('int')"
      ],
      "execution_count": null,
      "outputs": []
    },
    {
      "cell_type": "code",
      "metadata": {
        "colab": {
          "base_uri": "https://localhost:8080/",
          "height": 904
        },
        "id": "w_iqlZ6SZQGl",
        "outputId": "04e0c5be-d00f-4cae-8587-418c9831e626"
      },
      "source": [
        "df.head().T"
      ],
      "execution_count": null,
      "outputs": [
        {
          "output_type": "execute_result",
          "data": {
            "text/html": [
              "<div>\n",
              "<style scoped>\n",
              "    .dataframe tbody tr th:only-of-type {\n",
              "        vertical-align: middle;\n",
              "    }\n",
              "\n",
              "    .dataframe tbody tr th {\n",
              "        vertical-align: top;\n",
              "    }\n",
              "\n",
              "    .dataframe thead th {\n",
              "        text-align: right;\n",
              "    }\n",
              "</style>\n",
              "<table border=\"1\" class=\"dataframe\">\n",
              "  <thead>\n",
              "    <tr style=\"text-align: right;\">\n",
              "      <th></th>\n",
              "      <th>0</th>\n",
              "      <th>1</th>\n",
              "      <th>2</th>\n",
              "      <th>39</th>\n",
              "      <th>59</th>\n",
              "    </tr>\n",
              "  </thead>\n",
              "  <tbody>\n",
              "    <tr>\n",
              "      <th>author_flair_css_class</th>\n",
              "      <td>None</td>\n",
              "      <td>None</td>\n",
              "      <td>None</td>\n",
              "      <td>None</td>\n",
              "      <td>None</td>\n",
              "    </tr>\n",
              "    <tr>\n",
              "      <th>id</th>\n",
              "      <td>2</td>\n",
              "      <td>3</td>\n",
              "      <td>4</td>\n",
              "      <td>16</td>\n",
              "      <td>1q</td>\n",
              "    </tr>\n",
              "    <tr>\n",
              "      <th>link_id</th>\n",
              "      <td>t3_7j6z5</td>\n",
              "      <td>t3_7jlvw</td>\n",
              "      <td>t3_7jlvw</td>\n",
              "      <td>t3_7k6cl</td>\n",
              "      <td>t3_7k8ct</td>\n",
              "    </tr>\n",
              "    <tr>\n",
              "      <th>subreddit</th>\n",
              "      <td>politics</td>\n",
              "      <td>politics</td>\n",
              "      <td>politics</td>\n",
              "      <td>politics</td>\n",
              "      <td>politics</td>\n",
              "    </tr>\n",
              "    <tr>\n",
              "      <th>author</th>\n",
              "      <td>272</td>\n",
              "      <td>272</td>\n",
              "      <td>272</td>\n",
              "      <td>22</td>\n",
              "      <td>6</td>\n",
              "    </tr>\n",
              "    <tr>\n",
              "      <th>score</th>\n",
              "      <td>1</td>\n",
              "      <td>1</td>\n",
              "      <td>2</td>\n",
              "      <td>4</td>\n",
              "      <td>3</td>\n",
              "    </tr>\n",
              "    <tr>\n",
              "      <th>subreddit_id</th>\n",
              "      <td>t5_2cneq</td>\n",
              "      <td>t5_2cneq</td>\n",
              "      <td>t5_2cneq</td>\n",
              "      <td>t5_2cneq</td>\n",
              "      <td>t5_2cneq</td>\n",
              "    </tr>\n",
              "    <tr>\n",
              "      <th>edited</th>\n",
              "      <td>0</td>\n",
              "      <td>0</td>\n",
              "      <td>0</td>\n",
              "      <td>0</td>\n",
              "      <td>0</td>\n",
              "    </tr>\n",
              "    <tr>\n",
              "      <th>author_flair_text</th>\n",
              "      <td>None</td>\n",
              "      <td>None</td>\n",
              "      <td>None</td>\n",
              "      <td>None</td>\n",
              "      <td>None</td>\n",
              "    </tr>\n",
              "    <tr>\n",
              "      <th>body</th>\n",
              "      <td>&amp;gt;The business cannot survive paying out ben...</td>\n",
              "      <td>&amp;gt;I'm curious, how do you see, beyond defini...</td>\n",
              "      <td>&amp;gt;I'm curious, how do you see, beyond defini...</td>\n",
              "      <td>Nope.  Because we aren't gonna hold them accou...</td>\n",
              "      <td>Or alternative scenario: the opposite of what ...</td>\n",
              "    </tr>\n",
              "    <tr>\n",
              "      <th>retrieved_on</th>\n",
              "      <td>1428217153</td>\n",
              "      <td>1428217153</td>\n",
              "      <td>1428217153</td>\n",
              "      <td>1428217153</td>\n",
              "      <td>1428217153</td>\n",
              "    </tr>\n",
              "    <tr>\n",
              "      <th>parent_id</th>\n",
              "      <td>t1_c06vdmu</td>\n",
              "      <td>t1_c06vcxp</td>\n",
              "      <td>t1_c06vcxp</td>\n",
              "      <td>t3_7k6cl</td>\n",
              "      <td>t1_c06vwnw</td>\n",
              "    </tr>\n",
              "    <tr>\n",
              "      <th>name</th>\n",
              "      <td>t1_2</td>\n",
              "      <td>t1_3</td>\n",
              "      <td>t1_4</td>\n",
              "      <td>t1_16</td>\n",
              "      <td>t1_1q</td>\n",
              "    </tr>\n",
              "    <tr>\n",
              "      <th>archived</th>\n",
              "      <td>1</td>\n",
              "      <td>1</td>\n",
              "      <td>1</td>\n",
              "      <td>1</td>\n",
              "      <td>1</td>\n",
              "    </tr>\n",
              "    <tr>\n",
              "      <th>created_utc</th>\n",
              "      <td>1229580037</td>\n",
              "      <td>1229580041</td>\n",
              "      <td>1229580053</td>\n",
              "      <td>1229580299</td>\n",
              "      <td>1229580382</td>\n",
              "    </tr>\n",
              "    <tr>\n",
              "      <th>time</th>\n",
              "      <td>2008-12-18 06:00:37</td>\n",
              "      <td>2008-12-18 06:00:41</td>\n",
              "      <td>2008-12-18 06:00:53</td>\n",
              "      <td>2008-12-18 06:04:59</td>\n",
              "      <td>2008-12-18 06:06:22</td>\n",
              "    </tr>\n",
              "    <tr>\n",
              "      <th>time_lapse</th>\n",
              "      <td>440878</td>\n",
              "      <td>216480</td>\n",
              "      <td>216492</td>\n",
              "      <td>30807</td>\n",
              "      <td>11319</td>\n",
              "    </tr>\n",
              "    <tr>\n",
              "      <th>hour_of_comment</th>\n",
              "      <td>6</td>\n",
              "      <td>6</td>\n",
              "      <td>6</td>\n",
              "      <td>6</td>\n",
              "      <td>6</td>\n",
              "    </tr>\n",
              "    <tr>\n",
              "      <th>weekday</th>\n",
              "      <td>3</td>\n",
              "      <td>3</td>\n",
              "      <td>3</td>\n",
              "      <td>3</td>\n",
              "      <td>3</td>\n",
              "    </tr>\n",
              "    <tr>\n",
              "      <th>is_flair</th>\n",
              "      <td>0</td>\n",
              "      <td>0</td>\n",
              "      <td>0</td>\n",
              "      <td>0</td>\n",
              "      <td>0</td>\n",
              "    </tr>\n",
              "    <tr>\n",
              "      <th>is_flair_css</th>\n",
              "      <td>0</td>\n",
              "      <td>0</td>\n",
              "      <td>0</td>\n",
              "      <td>0</td>\n",
              "      <td>0</td>\n",
              "    </tr>\n",
              "    <tr>\n",
              "      <th>depth</th>\n",
              "      <td>21</td>\n",
              "      <td>12</td>\n",
              "      <td>12</td>\n",
              "      <td>1</td>\n",
              "      <td>3</td>\n",
              "    </tr>\n",
              "    <tr>\n",
              "      <th>parent_score</th>\n",
              "      <td>0</td>\n",
              "      <td>1</td>\n",
              "      <td>1</td>\n",
              "      <td>2</td>\n",
              "      <td>4</td>\n",
              "    </tr>\n",
              "    <tr>\n",
              "      <th>time_since_parent</th>\n",
              "      <td>56197</td>\n",
              "      <td>59249</td>\n",
              "      <td>59261</td>\n",
              "      <td>0</td>\n",
              "      <td>1328</td>\n",
              "    </tr>\n",
              "    <tr>\n",
              "      <th>comment_tree_root_id</th>\n",
              "      <td>NaN</td>\n",
              "      <td>t1_c06u60d</td>\n",
              "      <td>t1_c06u60d</td>\n",
              "      <td>t1_16</td>\n",
              "      <td>t1_c06vuiz</td>\n",
              "    </tr>\n",
              "    <tr>\n",
              "      <th>comment_tree_root_score</th>\n",
              "      <td>2</td>\n",
              "      <td>0</td>\n",
              "      <td>0</td>\n",
              "      <td>4</td>\n",
              "      <td>4</td>\n",
              "    </tr>\n",
              "    <tr>\n",
              "      <th>time_since_comment_tree_root</th>\n",
              "      <td>0</td>\n",
              "      <td>212687</td>\n",
              "      <td>212699</td>\n",
              "      <td>0</td>\n",
              "      <td>9182</td>\n",
              "    </tr>\n",
              "    <tr>\n",
              "      <th>word_count</th>\n",
              "      <td>86</td>\n",
              "      <td>79</td>\n",
              "      <td>79</td>\n",
              "      <td>8</td>\n",
              "      <td>17</td>\n",
              "    </tr>\n",
              "  </tbody>\n",
              "</table>\n",
              "</div>"
            ],
            "text/plain": [
              "                                                                             0   ...                                                 59\n",
              "author_flair_css_class                                                     None  ...                                               None\n",
              "id                                                                            2  ...                                                 1q\n",
              "link_id                                                                t3_7j6z5  ...                                           t3_7k8ct\n",
              "subreddit                                                              politics  ...                                           politics\n",
              "author                                                                      272  ...                                                  6\n",
              "score                                                                         1  ...                                                  3\n",
              "subreddit_id                                                           t5_2cneq  ...                                           t5_2cneq\n",
              "edited                                                                        0  ...                                                  0\n",
              "author_flair_text                                                          None  ...                                               None\n",
              "body                          &gt;The business cannot survive paying out ben...  ...  Or alternative scenario: the opposite of what ...\n",
              "retrieved_on                                                         1428217153  ...                                         1428217153\n",
              "parent_id                                                            t1_c06vdmu  ...                                         t1_c06vwnw\n",
              "name                                                                       t1_2  ...                                              t1_1q\n",
              "archived                                                                      1  ...                                                  1\n",
              "created_utc                                                          1229580037  ...                                         1229580382\n",
              "time                                                        2008-12-18 06:00:37  ...                                2008-12-18 06:06:22\n",
              "time_lapse                                                               440878  ...                                              11319\n",
              "hour_of_comment                                                               6  ...                                                  6\n",
              "weekday                                                                       3  ...                                                  3\n",
              "is_flair                                                                      0  ...                                                  0\n",
              "is_flair_css                                                                  0  ...                                                  0\n",
              "depth                                                                        21  ...                                                  3\n",
              "parent_score                                                                  0  ...                                                  4\n",
              "time_since_parent                                                         56197  ...                                               1328\n",
              "comment_tree_root_id                                                        NaN  ...                                         t1_c06vuiz\n",
              "comment_tree_root_score                                                       2  ...                                                  4\n",
              "time_since_comment_tree_root                                                  0  ...                                               9182\n",
              "word_count                                                                   86  ...                                                 17\n",
              "\n",
              "[28 rows x 5 columns]"
            ]
          },
          "metadata": {
            "tags": []
          },
          "execution_count": 44
        }
      ]
    },
    {
      "cell_type": "code",
      "metadata": {
        "colab": {
          "base_uri": "https://localhost:8080/"
        },
        "id": "AtAzdjJ7Dq_Q",
        "outputId": "22fd7178-403b-4c4e-9eb1-b6377bd3ec80"
      },
      "source": [
        "df.isna().sum()"
      ],
      "execution_count": null,
      "outputs": [
        {
          "output_type": "execute_result",
          "data": {
            "text/plain": [
              "author_flair_css_class              0\n",
              "id                                  0\n",
              "link_id                             0\n",
              "subreddit                           0\n",
              "author                              0\n",
              "score                               0\n",
              "subreddit_id                        0\n",
              "edited                              0\n",
              "author_flair_text                   0\n",
              "body                                0\n",
              "retrieved_on                        0\n",
              "parent_id                           0\n",
              "name                                0\n",
              "archived                            0\n",
              "created_utc                         0\n",
              "time                                0\n",
              "time_lapse                          0\n",
              "hour_of_comment                     0\n",
              "weekday                             0\n",
              "is_flair                            0\n",
              "is_flair_css                        0\n",
              "depth                               0\n",
              "parent_score                        0\n",
              "time_since_parent                   0\n",
              "comment_tree_root_id            13125\n",
              "comment_tree_root_score             0\n",
              "time_since_comment_tree_root        0\n",
              "word_count                          0\n",
              "dtype: int64"
            ]
          },
          "metadata": {
            "tags": []
          },
          "execution_count": 45
        }
      ]
    },
    {
      "cell_type": "code",
      "metadata": {
        "id": "V1SLRow9PiJe"
      },
      "source": [
        "y = df['score']\r\n",
        "x = df[[\"time_lapse\", \"hour_of_comment\", \"weekday\", \"word_count\", \"is_flair_css\", \"is_flair\", \"archived\", \"depth\", \"parent_score\", \"time_since_parent\", \"comment_tree_root_score\", \"time_since_comment_tree_root\"]]"
      ],
      "execution_count": null,
      "outputs": []
    },
    {
      "cell_type": "code",
      "metadata": {
        "colab": {
          "base_uri": "https://localhost:8080/",
          "height": 426
        },
        "id": "i-FlQG0qS_yF",
        "outputId": "3d2b2c3f-0984-4c05-ad60-d3b45f868c5e"
      },
      "source": [
        "x"
      ],
      "execution_count": null,
      "outputs": [
        {
          "output_type": "execute_result",
          "data": {
            "text/html": [
              "<div>\n",
              "<style scoped>\n",
              "    .dataframe tbody tr th:only-of-type {\n",
              "        vertical-align: middle;\n",
              "    }\n",
              "\n",
              "    .dataframe tbody tr th {\n",
              "        vertical-align: top;\n",
              "    }\n",
              "\n",
              "    .dataframe thead th {\n",
              "        text-align: right;\n",
              "    }\n",
              "</style>\n",
              "<table border=\"1\" class=\"dataframe\">\n",
              "  <thead>\n",
              "    <tr style=\"text-align: right;\">\n",
              "      <th></th>\n",
              "      <th>time_lapse</th>\n",
              "      <th>hour_of_comment</th>\n",
              "      <th>weekday</th>\n",
              "      <th>word_count</th>\n",
              "      <th>is_flair_css</th>\n",
              "      <th>is_flair</th>\n",
              "      <th>archived</th>\n",
              "      <th>depth</th>\n",
              "      <th>parent_score</th>\n",
              "      <th>time_since_parent</th>\n",
              "      <th>comment_tree_root_score</th>\n",
              "      <th>time_since_comment_tree_root</th>\n",
              "    </tr>\n",
              "  </thead>\n",
              "  <tbody>\n",
              "    <tr>\n",
              "      <th>0</th>\n",
              "      <td>440878.0</td>\n",
              "      <td>6</td>\n",
              "      <td>3</td>\n",
              "      <td>86</td>\n",
              "      <td>0</td>\n",
              "      <td>0</td>\n",
              "      <td>1</td>\n",
              "      <td>21</td>\n",
              "      <td>0.0</td>\n",
              "      <td>56197.0</td>\n",
              "      <td>2.0</td>\n",
              "      <td>0.0</td>\n",
              "    </tr>\n",
              "    <tr>\n",
              "      <th>1</th>\n",
              "      <td>216480.0</td>\n",
              "      <td>6</td>\n",
              "      <td>3</td>\n",
              "      <td>79</td>\n",
              "      <td>0</td>\n",
              "      <td>0</td>\n",
              "      <td>1</td>\n",
              "      <td>12</td>\n",
              "      <td>1.0</td>\n",
              "      <td>59249.0</td>\n",
              "      <td>0.0</td>\n",
              "      <td>212687.0</td>\n",
              "    </tr>\n",
              "    <tr>\n",
              "      <th>2</th>\n",
              "      <td>216492.0</td>\n",
              "      <td>6</td>\n",
              "      <td>3</td>\n",
              "      <td>79</td>\n",
              "      <td>0</td>\n",
              "      <td>0</td>\n",
              "      <td>1</td>\n",
              "      <td>12</td>\n",
              "      <td>1.0</td>\n",
              "      <td>59261.0</td>\n",
              "      <td>0.0</td>\n",
              "      <td>212699.0</td>\n",
              "    </tr>\n",
              "    <tr>\n",
              "      <th>39</th>\n",
              "      <td>30807.0</td>\n",
              "      <td>6</td>\n",
              "      <td>3</td>\n",
              "      <td>8</td>\n",
              "      <td>0</td>\n",
              "      <td>0</td>\n",
              "      <td>1</td>\n",
              "      <td>1</td>\n",
              "      <td>2.0</td>\n",
              "      <td>0.0</td>\n",
              "      <td>4.0</td>\n",
              "      <td>0.0</td>\n",
              "    </tr>\n",
              "    <tr>\n",
              "      <th>59</th>\n",
              "      <td>11319.0</td>\n",
              "      <td>6</td>\n",
              "      <td>3</td>\n",
              "      <td>17</td>\n",
              "      <td>0</td>\n",
              "      <td>0</td>\n",
              "      <td>1</td>\n",
              "      <td>3</td>\n",
              "      <td>4.0</td>\n",
              "      <td>1328.0</td>\n",
              "      <td>4.0</td>\n",
              "      <td>9182.0</td>\n",
              "    </tr>\n",
              "    <tr>\n",
              "      <th>...</th>\n",
              "      <td>...</td>\n",
              "      <td>...</td>\n",
              "      <td>...</td>\n",
              "      <td>...</td>\n",
              "      <td>...</td>\n",
              "      <td>...</td>\n",
              "      <td>...</td>\n",
              "      <td>...</td>\n",
              "      <td>...</td>\n",
              "      <td>...</td>\n",
              "      <td>...</td>\n",
              "      <td>...</td>\n",
              "    </tr>\n",
              "    <tr>\n",
              "      <th>850259</th>\n",
              "      <td>10322.0</td>\n",
              "      <td>5</td>\n",
              "      <td>3</td>\n",
              "      <td>33</td>\n",
              "      <td>0</td>\n",
              "      <td>0</td>\n",
              "      <td>1</td>\n",
              "      <td>3</td>\n",
              "      <td>2.0</td>\n",
              "      <td>5086.0</td>\n",
              "      <td>-6.0</td>\n",
              "      <td>5809.0</td>\n",
              "    </tr>\n",
              "    <tr>\n",
              "      <th>850291</th>\n",
              "      <td>23897.0</td>\n",
              "      <td>5</td>\n",
              "      <td>3</td>\n",
              "      <td>10</td>\n",
              "      <td>0</td>\n",
              "      <td>0</td>\n",
              "      <td>1</td>\n",
              "      <td>2</td>\n",
              "      <td>22.0</td>\n",
              "      <td>12599.0</td>\n",
              "      <td>22.0</td>\n",
              "      <td>12599.0</td>\n",
              "    </tr>\n",
              "    <tr>\n",
              "      <th>850297</th>\n",
              "      <td>41700.0</td>\n",
              "      <td>5</td>\n",
              "      <td>3</td>\n",
              "      <td>55</td>\n",
              "      <td>0</td>\n",
              "      <td>0</td>\n",
              "      <td>1</td>\n",
              "      <td>3</td>\n",
              "      <td>2.0</td>\n",
              "      <td>27962.0</td>\n",
              "      <td>9.0</td>\n",
              "      <td>39498.0</td>\n",
              "    </tr>\n",
              "    <tr>\n",
              "      <th>850314</th>\n",
              "      <td>440426.0</td>\n",
              "      <td>5</td>\n",
              "      <td>3</td>\n",
              "      <td>12</td>\n",
              "      <td>0</td>\n",
              "      <td>0</td>\n",
              "      <td>1</td>\n",
              "      <td>13</td>\n",
              "      <td>1.0</td>\n",
              "      <td>63189.0</td>\n",
              "      <td>2.0</td>\n",
              "      <td>0.0</td>\n",
              "    </tr>\n",
              "    <tr>\n",
              "      <th>850351</th>\n",
              "      <td>30173.0</td>\n",
              "      <td>5</td>\n",
              "      <td>3</td>\n",
              "      <td>9</td>\n",
              "      <td>0</td>\n",
              "      <td>0</td>\n",
              "      <td>1</td>\n",
              "      <td>1</td>\n",
              "      <td>2.0</td>\n",
              "      <td>0.0</td>\n",
              "      <td>2.0</td>\n",
              "      <td>0.0</td>\n",
              "    </tr>\n",
              "  </tbody>\n",
              "</table>\n",
              "<p>46220 rows × 12 columns</p>\n",
              "</div>"
            ],
            "text/plain": [
              "        time_lapse  ...  time_since_comment_tree_root\n",
              "0         440878.0  ...                           0.0\n",
              "1         216480.0  ...                      212687.0\n",
              "2         216492.0  ...                      212699.0\n",
              "39         30807.0  ...                           0.0\n",
              "59         11319.0  ...                        9182.0\n",
              "...            ...  ...                           ...\n",
              "850259     10322.0  ...                        5809.0\n",
              "850291     23897.0  ...                       12599.0\n",
              "850297     41700.0  ...                       39498.0\n",
              "850314    440426.0  ...                           0.0\n",
              "850351     30173.0  ...                           0.0\n",
              "\n",
              "[46220 rows x 12 columns]"
            ]
          },
          "metadata": {
            "tags": []
          },
          "execution_count": 47
        }
      ]
    },
    {
      "cell_type": "code",
      "metadata": {
        "id": "DSuTZuOEPxDD"
      },
      "source": [
        "from sklearn.metrics import mean_squared_error, r2_score, mean_absolute_error\r\n",
        "from sklearn.model_selection import train_test_split\r\n",
        "X_train, X_test, y_train, y_test = train_test_split(x, y, test_size=0.2, random_state=10)"
      ],
      "execution_count": null,
      "outputs": []
    },
    {
      "cell_type": "code",
      "metadata": {
        "colab": {
          "base_uri": "https://localhost:8080/",
          "height": 426
        },
        "id": "KUmHtB7yP2sb",
        "outputId": "0c4ae888-86c1-4ff6-8140-4b5f7f61b2ff"
      },
      "source": [
        "X_train"
      ],
      "execution_count": null,
      "outputs": [
        {
          "output_type": "execute_result",
          "data": {
            "text/html": [
              "<div>\n",
              "<style scoped>\n",
              "    .dataframe tbody tr th:only-of-type {\n",
              "        vertical-align: middle;\n",
              "    }\n",
              "\n",
              "    .dataframe tbody tr th {\n",
              "        vertical-align: top;\n",
              "    }\n",
              "\n",
              "    .dataframe thead th {\n",
              "        text-align: right;\n",
              "    }\n",
              "</style>\n",
              "<table border=\"1\" class=\"dataframe\">\n",
              "  <thead>\n",
              "    <tr style=\"text-align: right;\">\n",
              "      <th></th>\n",
              "      <th>time_lapse</th>\n",
              "      <th>hour_of_comment</th>\n",
              "      <th>weekday</th>\n",
              "      <th>word_count</th>\n",
              "      <th>is_flair_css</th>\n",
              "      <th>is_flair</th>\n",
              "      <th>archived</th>\n",
              "      <th>depth</th>\n",
              "      <th>parent_score</th>\n",
              "      <th>time_since_parent</th>\n",
              "      <th>comment_tree_root_score</th>\n",
              "      <th>time_since_comment_tree_root</th>\n",
              "    </tr>\n",
              "  </thead>\n",
              "  <tbody>\n",
              "    <tr>\n",
              "      <th>521949</th>\n",
              "      <td>46920.0</td>\n",
              "      <td>12</td>\n",
              "      <td>5</td>\n",
              "      <td>20</td>\n",
              "      <td>0</td>\n",
              "      <td>0</td>\n",
              "      <td>1</td>\n",
              "      <td>3</td>\n",
              "      <td>8.0</td>\n",
              "      <td>30736.0</td>\n",
              "      <td>89.0</td>\n",
              "      <td>38778.0</td>\n",
              "    </tr>\n",
              "    <tr>\n",
              "      <th>56064</th>\n",
              "      <td>0.0</td>\n",
              "      <td>1</td>\n",
              "      <td>5</td>\n",
              "      <td>36</td>\n",
              "      <td>0</td>\n",
              "      <td>0</td>\n",
              "      <td>1</td>\n",
              "      <td>1</td>\n",
              "      <td>2.0</td>\n",
              "      <td>0.0</td>\n",
              "      <td>0.0</td>\n",
              "      <td>0.0</td>\n",
              "    </tr>\n",
              "    <tr>\n",
              "      <th>545243</th>\n",
              "      <td>5240.0</td>\n",
              "      <td>16</td>\n",
              "      <td>6</td>\n",
              "      <td>5</td>\n",
              "      <td>0</td>\n",
              "      <td>0</td>\n",
              "      <td>1</td>\n",
              "      <td>1</td>\n",
              "      <td>2.0</td>\n",
              "      <td>0.0</td>\n",
              "      <td>14.0</td>\n",
              "      <td>0.0</td>\n",
              "    </tr>\n",
              "    <tr>\n",
              "      <th>143772</th>\n",
              "      <td>41447.0</td>\n",
              "      <td>12</td>\n",
              "      <td>1</td>\n",
              "      <td>12</td>\n",
              "      <td>0</td>\n",
              "      <td>0</td>\n",
              "      <td>1</td>\n",
              "      <td>4</td>\n",
              "      <td>7.0</td>\n",
              "      <td>9537.0</td>\n",
              "      <td>33.0</td>\n",
              "      <td>27118.0</td>\n",
              "    </tr>\n",
              "    <tr>\n",
              "      <th>628333</th>\n",
              "      <td>59295.0</td>\n",
              "      <td>14</td>\n",
              "      <td>2</td>\n",
              "      <td>4</td>\n",
              "      <td>0</td>\n",
              "      <td>0</td>\n",
              "      <td>1</td>\n",
              "      <td>1</td>\n",
              "      <td>2.0</td>\n",
              "      <td>0.0</td>\n",
              "      <td>-1.0</td>\n",
              "      <td>0.0</td>\n",
              "    </tr>\n",
              "    <tr>\n",
              "      <th>...</th>\n",
              "      <td>...</td>\n",
              "      <td>...</td>\n",
              "      <td>...</td>\n",
              "      <td>...</td>\n",
              "      <td>...</td>\n",
              "      <td>...</td>\n",
              "      <td>...</td>\n",
              "      <td>...</td>\n",
              "      <td>...</td>\n",
              "      <td>...</td>\n",
              "      <td>...</td>\n",
              "      <td>...</td>\n",
              "    </tr>\n",
              "    <tr>\n",
              "      <th>723869</th>\n",
              "      <td>41477.0</td>\n",
              "      <td>20</td>\n",
              "      <td>5</td>\n",
              "      <td>33</td>\n",
              "      <td>0</td>\n",
              "      <td>0</td>\n",
              "      <td>1</td>\n",
              "      <td>1</td>\n",
              "      <td>2.0</td>\n",
              "      <td>0.0</td>\n",
              "      <td>2.0</td>\n",
              "      <td>0.0</td>\n",
              "    </tr>\n",
              "    <tr>\n",
              "      <th>518401</th>\n",
              "      <td>0.0</td>\n",
              "      <td>6</td>\n",
              "      <td>5</td>\n",
              "      <td>1</td>\n",
              "      <td>0</td>\n",
              "      <td>0</td>\n",
              "      <td>1</td>\n",
              "      <td>1</td>\n",
              "      <td>2.0</td>\n",
              "      <td>0.0</td>\n",
              "      <td>1.0</td>\n",
              "      <td>0.0</td>\n",
              "    </tr>\n",
              "    <tr>\n",
              "      <th>535002</th>\n",
              "      <td>37721.0</td>\n",
              "      <td>1</td>\n",
              "      <td>6</td>\n",
              "      <td>33</td>\n",
              "      <td>0</td>\n",
              "      <td>0</td>\n",
              "      <td>1</td>\n",
              "      <td>1</td>\n",
              "      <td>2.0</td>\n",
              "      <td>0.0</td>\n",
              "      <td>3.0</td>\n",
              "      <td>0.0</td>\n",
              "    </tr>\n",
              "    <tr>\n",
              "      <th>723906</th>\n",
              "      <td>112213.0</td>\n",
              "      <td>20</td>\n",
              "      <td>5</td>\n",
              "      <td>112</td>\n",
              "      <td>0</td>\n",
              "      <td>0</td>\n",
              "      <td>1</td>\n",
              "      <td>1</td>\n",
              "      <td>2.0</td>\n",
              "      <td>0.0</td>\n",
              "      <td>2.0</td>\n",
              "      <td>0.0</td>\n",
              "    </tr>\n",
              "    <tr>\n",
              "      <th>357908</th>\n",
              "      <td>12017.0</td>\n",
              "      <td>18</td>\n",
              "      <td>2</td>\n",
              "      <td>29</td>\n",
              "      <td>0</td>\n",
              "      <td>0</td>\n",
              "      <td>1</td>\n",
              "      <td>1</td>\n",
              "      <td>2.0</td>\n",
              "      <td>0.0</td>\n",
              "      <td>2.0</td>\n",
              "      <td>0.0</td>\n",
              "    </tr>\n",
              "  </tbody>\n",
              "</table>\n",
              "<p>36976 rows × 12 columns</p>\n",
              "</div>"
            ],
            "text/plain": [
              "        time_lapse  ...  time_since_comment_tree_root\n",
              "521949     46920.0  ...                       38778.0\n",
              "56064          0.0  ...                           0.0\n",
              "545243      5240.0  ...                           0.0\n",
              "143772     41447.0  ...                       27118.0\n",
              "628333     59295.0  ...                           0.0\n",
              "...            ...  ...                           ...\n",
              "723869     41477.0  ...                           0.0\n",
              "518401         0.0  ...                           0.0\n",
              "535002     37721.0  ...                           0.0\n",
              "723906    112213.0  ...                           0.0\n",
              "357908     12017.0  ...                           0.0\n",
              "\n",
              "[36976 rows x 12 columns]"
            ]
          },
          "metadata": {
            "tags": []
          },
          "execution_count": 49
        }
      ]
    },
    {
      "cell_type": "code",
      "metadata": {
        "id": "JYg7bh6dP7Pc"
      },
      "source": [
        "def model_diagnostics(model):\r\n",
        "    y_predicted = model.predict(X_test)\r\n",
        "    r2 = r2_score(y_test, y_predicted)\r\n",
        "    mse = mean_squared_error(y_test, y_predicted)\r\n",
        "    mae = mean_absolute_error(y_test, y_predicted)\r\n",
        "    print(f\"R-Sq: {r2:.4}\")\r\n",
        "    print(f\"RMSE: {np.sqrt(mse)}\")\r\n",
        "    print(f\"MAE: {mae}\")\r\n",
        "    \r\n",
        "    return [r2,np.sqrt(mse),mae]"
      ],
      "execution_count": null,
      "outputs": []
    },
    {
      "cell_type": "code",
      "metadata": {
        "id": "WyBIBccEP83g"
      },
      "source": [
        "model_performance_dict = dict()\r\n"
      ],
      "execution_count": null,
      "outputs": []
    },
    {
      "cell_type": "code",
      "metadata": {
        "id": "ZoVLmNbIQjzK"
      },
      "source": [
        "def y_test_vs_y_predicted(y_test,y_predicted):\r\n",
        "    fig, ax = plt.subplots()\r\n",
        "    ax.scatter(y_test, y_predicted)\r\n",
        "    ax.set_xlabel(\"Test Scores\")\r\n",
        "    ax.set_ylim([-75, 1400])\r\n",
        "    ax.set_ylabel(\"Predicted Scores\")\r\n",
        "    plt.show()"
      ],
      "execution_count": null,
      "outputs": []
    },
    {
      "cell_type": "code",
      "metadata": {
        "id": "6vFk7zA-Qo6t"
      },
      "source": [
        "def get_feature_importance(model):\r\n",
        "    X_non_text = pd.get_dummies(df[cat_cols])\r\n",
        "    features = numeric_cols + bool_cols + list(X_non_text.columns)\r\n",
        "\r\n",
        "    feature_importance = dict(zip(features, model.feature_importances_))\r\n",
        "    for name, importance in sorted(feature_importance.items(), key=lambda x: x[1], reverse=True):\r\n",
        "        print(f\"{name:<30}: {importance:>6.2%}\")\r\n",
        "  \r\n",
        "    print(f\"\\nTotal importance: {sum(feature_importance.values()):.2%}\")\r\n",
        "    return feature_importance"
      ],
      "execution_count": null,
      "outputs": []
    },
    {
      "cell_type": "code",
      "metadata": {
        "colab": {
          "base_uri": "https://localhost:8080/"
        },
        "id": "yKuISrMkQvtU",
        "outputId": "4e48a232-876b-40ab-f044-3ef88759c8d7"
      },
      "source": [
        "from sklearn.dummy import DummyRegressor\r\n",
        "\r\n",
        "baseline = DummyRegressor(strategy='mean')\r\n",
        "baseline.fit(X_train,y_train)\r\n"
      ],
      "execution_count": null,
      "outputs": [
        {
          "output_type": "execute_result",
          "data": {
            "text/plain": [
              "DummyRegressor(constant=None, quantile=None, strategy='mean')"
            ]
          },
          "metadata": {
            "tags": []
          },
          "execution_count": 54
        }
      ]
    },
    {
      "cell_type": "code",
      "metadata": {
        "colab": {
          "base_uri": "https://localhost:8080/"
        },
        "id": "rGRdPwIWQ1Nc",
        "outputId": "91e3cb94-9f17-41f8-b7a8-be8bc574b595"
      },
      "source": [
        "model_performance_dict[\"Baseline\"] = model_diagnostics(baseline)"
      ],
      "execution_count": null,
      "outputs": [
        {
          "output_type": "stream",
          "text": [
            "R-Sq: -2.932e-10\n",
            "RMSE: 9.47607235798776\n",
            "MAE: 3.6019588928161577\n"
          ],
          "name": "stdout"
        }
      ]
    },
    {
      "cell_type": "code",
      "metadata": {
        "id": "wz4QtcBlQ17p"
      },
      "source": [
        "from sklearn.linear_model import LinearRegression\r\n",
        "import warnings\r\n",
        "warnings.filterwarnings('ignore')"
      ],
      "execution_count": null,
      "outputs": []
    },
    {
      "cell_type": "code",
      "metadata": {
        "colab": {
          "base_uri": "https://localhost:8080/"
        },
        "id": "K85pRkqjQ6kD",
        "outputId": "f8979a72-377f-44bc-a16c-8826dde8d953"
      },
      "source": [
        "linear = LinearRegression()\r\n",
        "\r\n",
        "linear.fit(X_train,y_train)"
      ],
      "execution_count": null,
      "outputs": [
        {
          "output_type": "execute_result",
          "data": {
            "text/plain": [
              "LinearRegression(copy_X=True, fit_intercept=True, n_jobs=None, normalize=False)"
            ]
          },
          "metadata": {
            "tags": []
          },
          "execution_count": 57
        }
      ]
    },
    {
      "cell_type": "code",
      "metadata": {
        "colab": {
          "base_uri": "https://localhost:8080/"
        },
        "id": "CRRutaLFQ-sx",
        "outputId": "cb93d79c-798f-4af4-d989-e8fa4fbae05b"
      },
      "source": [
        "model_performance_dict[\"Linear Regression\"] = model_diagnostics(linear)"
      ],
      "execution_count": null,
      "outputs": [
        {
          "output_type": "stream",
          "text": [
            "R-Sq: 0.04479\n",
            "RMSE: 9.261444156482899\n",
            "MAE: 3.580483605096624\n"
          ],
          "name": "stdout"
        }
      ]
    },
    {
      "cell_type": "code",
      "metadata": {
        "colab": {
          "base_uri": "https://localhost:8080/",
          "height": 283
        },
        "id": "sMn-WRYlREHP",
        "outputId": "992d2c5b-e1d9-46ff-8369-9dc2d9c75d4f"
      },
      "source": [
        "\r\n",
        "y_predicted = linear.predict(X_test)\r\n",
        "y_test_vs_y_predicted(y_test,y_predicted)"
      ],
      "execution_count": null,
      "outputs": [
        {
          "output_type": "display_data",
          "data": {
            "image/png": "[encoded data removed]",
            "text/plain": [
              "<Figure size 432x288 with 1 Axes>"
            ]
          },
          "metadata": {
            "tags": [],
            "needs_background": "light"
          }
        }
      ]
    },
    {
      "cell_type": "code",
      "metadata": {
        "colab": {
          "base_uri": "https://localhost:8080/"
        },
        "id": "2JD50NM-RK87",
        "outputId": "9bee7918-252c-4ea4-ff22-9aea5426ad5c"
      },
      "source": [
        "from sklearn.linear_model import RidgeCV\r\n",
        "\r\n",
        "ridge = RidgeCV(cv=10).fit(X_train, y_train)\r\n",
        "ridge.alpha_\r\n"
      ],
      "execution_count": null,
      "outputs": [
        {
          "output_type": "execute_result",
          "data": {
            "text/plain": [
              "10.0"
            ]
          },
          "metadata": {
            "tags": []
          },
          "execution_count": 60
        }
      ]
    },
    {
      "cell_type": "code",
      "metadata": {
        "colab": {
          "base_uri": "https://localhost:8080/"
        },
        "id": "xtRQZTIrRi-R",
        "outputId": "b03c75e3-6079-4ab7-b58a-7e77b39e1bc2"
      },
      "source": [
        "model_performance_dict[\"Ridge Regression\"] = model_diagnostics(ridge)\r\n"
      ],
      "execution_count": null,
      "outputs": [
        {
          "output_type": "stream",
          "text": [
            "R-Sq: 0.04479\n",
            "RMSE: 9.26144410570833\n",
            "MAE: 3.580469631947229\n"
          ],
          "name": "stdout"
        }
      ]
    },
    {
      "cell_type": "code",
      "metadata": {
        "colab": {
          "base_uri": "https://localhost:8080/"
        },
        "id": "45RCvR2VRlXZ",
        "outputId": "1c272aaf-b05f-4616-9e00-700ee0ac7726"
      },
      "source": [
        "from sklearn.neighbors import KNeighborsRegressor\r\n",
        "knr = KNeighborsRegressor()\r\n",
        "knr.fit(X_train, y_train)"
      ],
      "execution_count": null,
      "outputs": [
        {
          "output_type": "execute_result",
          "data": {
            "text/plain": [
              "KNeighborsRegressor(algorithm='auto', leaf_size=30, metric='minkowski',\n",
              "                    metric_params=None, n_jobs=None, n_neighbors=5, p=2,\n",
              "                    weights='uniform')"
            ]
          },
          "metadata": {
            "tags": []
          },
          "execution_count": 62
        }
      ]
    },
    {
      "cell_type": "code",
      "metadata": {
        "colab": {
          "base_uri": "https://localhost:8080/"
        },
        "id": "sRzfwMKCR0wp",
        "outputId": "a0f75a45-007e-42b1-ce7f-8f3a2c58a57b"
      },
      "source": [
        "model_performance_dict[\"KNN Regression\"] = model_diagnostics(knr)\r\n"
      ],
      "execution_count": null,
      "outputs": [
        {
          "output_type": "stream",
          "text": [
            "R-Sq: 0.196\n",
            "RMSE: 8.49685613964936\n",
            "MAE: 3.2543487667676336\n"
          ],
          "name": "stdout"
        }
      ]
    },
    {
      "cell_type": "code",
      "metadata": {
        "colab": {
          "base_uri": "https://localhost:8080/",
          "height": 283
        },
        "id": "i84N_3ycR2im",
        "outputId": "6bfa1416-92d4-44ce-9fb3-d53a7dd8c50e"
      },
      "source": [
        "y_predicted = knr.predict(X_test)\r\n",
        "y_test_vs_y_predicted(y_test,y_predicted)\r\n"
      ],
      "execution_count": null,
      "outputs": [
        {
          "output_type": "display_data",
          "data": {
            "image/png": "[encoded data removed]",
            "text/plain": [
              "<Figure size 432x288 with 1 Axes>"
            ]
          },
          "metadata": {
            "tags": [],
            "needs_background": "light"
          }
        }
      ]
    },
    {
      "cell_type": "code",
      "metadata": {
        "colab": {
          "base_uri": "https://localhost:8080/"
        },
        "id": "a9mNLy28R_Ds",
        "outputId": "6808c9c7-8df7-45eb-b235-46540052c1ac"
      },
      "source": [
        "from sklearn.ensemble import GradientBoostingRegressor\r\n",
        "gbr = GradientBoostingRegressor(n_estimators=70, max_depth=5)\r\n",
        "gbr.fit(X_train, y_train)\r\n"
      ],
      "execution_count": null,
      "outputs": [
        {
          "output_type": "execute_result",
          "data": {
            "text/plain": [
              "GradientBoostingRegressor(alpha=0.9, ccp_alpha=0.0, criterion='friedman_mse',\n",
              "                          init=None, learning_rate=0.1, loss='ls', max_depth=5,\n",
              "                          max_features=None, max_leaf_nodes=None,\n",
              "                          min_impurity_decrease=0.0, min_impurity_split=None,\n",
              "                          min_samples_leaf=1, min_samples_split=2,\n",
              "                          min_weight_fraction_leaf=0.0, n_estimators=70,\n",
              "                          n_iter_no_change=None, presort='deprecated',\n",
              "                          random_state=None, subsample=1.0, tol=0.0001,\n",
              "                          validation_fraction=0.1, verbose=0, warm_start=False)"
            ]
          },
          "metadata": {
            "tags": []
          },
          "execution_count": 65
        }
      ]
    },
    {
      "cell_type": "code",
      "metadata": {
        "colab": {
          "base_uri": "https://localhost:8080/"
        },
        "id": "RRqtHTZVSJ2R",
        "outputId": "f5700543-0fa8-4254-9839-b0dea6f18593"
      },
      "source": [
        "model_performance_dict[\"Gradient Boosting Regression\"] = model_diagnostics(gbr)\r\n"
      ],
      "execution_count": null,
      "outputs": [
        {
          "output_type": "stream",
          "text": [
            "R-Sq: 0.5685\n",
            "RMSE: 6.224776975990164\n",
            "MAE: 1.9459818720039812\n"
          ],
          "name": "stdout"
        }
      ]
    },
    {
      "cell_type": "code",
      "metadata": {
        "colab": {
          "base_uri": "https://localhost:8080/",
          "height": 283
        },
        "id": "hKQCnLfa4m2F",
        "outputId": "f9eb3a51-51d4-48b1-f6f9-a5cc6a34222a"
      },
      "source": [
        "y_predicted = gbr.predict(X_test)\r\n",
        "y_test_vs_y_predicted(y_test,y_predicted)"
      ],
      "execution_count": null,
      "outputs": [
        {
          "output_type": "display_data",
          "data": {
            "image/png": "[encoded data removed]",
            "text/plain": [
              "<Figure size 432x288 with 1 Axes>"
            ]
          },
          "metadata": {
            "tags": [],
            "needs_background": "light"
          }
        }
      ]
    },
    {
      "cell_type": "code",
      "metadata": {
        "colab": {
          "base_uri": "https://localhost:8080/"
        },
        "id": "5ITDOCSYSMck",
        "outputId": "0a2d753b-0616-4a71-d69b-cab4f4747d9c"
      },
      "source": [
        "import xgboost\r\n",
        "\r\n",
        "xgb = xgboost.XGBRegressor(n_estimators=70, max_depth=5,n_jobs=-1)\r\n",
        "xgb.fit(X_train, y_train)\r\n"
      ],
      "execution_count": null,
      "outputs": [
        {
          "output_type": "stream",
          "text": [
            "[09:09:22] WARNING: /workspace/src/objective/regression_obj.cu:152: reg:linear is now deprecated in favor of reg:squarederror.\n"
          ],
          "name": "stdout"
        },
        {
          "output_type": "execute_result",
          "data": {
            "text/plain": [
              "XGBRegressor(base_score=0.5, booster='gbtree', colsample_bylevel=1,\n",
              "             colsample_bynode=1, colsample_bytree=1, gamma=0,\n",
              "             importance_type='gain', learning_rate=0.1, max_delta_step=0,\n",
              "             max_depth=5, min_child_weight=1, missing=None, n_estimators=70,\n",
              "             n_jobs=-1, nthread=None, objective='reg:linear', random_state=0,\n",
              "             reg_alpha=0, reg_lambda=1, scale_pos_weight=1, seed=None,\n",
              "             silent=None, subsample=1, verbosity=1)"
            ]
          },
          "metadata": {
            "tags": []
          },
          "execution_count": 68
        }
      ]
    },
    {
      "cell_type": "code",
      "metadata": {
        "colab": {
          "base_uri": "https://localhost:8080/"
        },
        "id": "neqPcKTqSSQT",
        "outputId": "c44302ca-41d5-45c1-f259-76ba291e5a19"
      },
      "source": [
        "model_performance_dict[\"XG Boosted Regression\"] = model_diagnostics(xgb)\r\n"
      ],
      "execution_count": null,
      "outputs": [
        {
          "output_type": "stream",
          "text": [
            "R-Sq: 0.5678\n",
            "RMSE: 6.229942553176812\n",
            "MAE: 1.9534820434929538\n"
          ],
          "name": "stdout"
        }
      ]
    },
    {
      "cell_type": "code",
      "metadata": {
        "colab": {
          "base_uri": "https://localhost:8080/",
          "height": 283
        },
        "id": "VCMZABsFST9H",
        "outputId": "12194efe-d795-4314-b779-ebc919873a87"
      },
      "source": [
        "y_predicted = xgb.predict(X_test)\r\n",
        "y_test_vs_y_predicted(y_test,y_predicted)\r\n"
      ],
      "execution_count": null,
      "outputs": [
        {
          "output_type": "display_data",
          "data": {
            "image/png": "[encoded data removed]",
            "text/plain": [
              "<Figure size 432x288 with 1 Axes>"
            ]
          },
          "metadata": {
            "tags": [],
            "needs_background": "light"
          }
        }
      ]
    },
    {
      "cell_type": "code",
      "metadata": {
        "id": "X_1LcITgSaDj",
        "colab": {
          "base_uri": "https://localhost:8080/"
        },
        "outputId": "e526e966-ba23-4909-a042-98560df42dfd"
      },
      "source": [
        "xgb_feature_imps = get_feature_importance(xgb)\r\n"
      ],
      "execution_count": null,
      "outputs": [
        {
          "output_type": "stream",
          "text": [
            "comment_tree_root_score       : 39.88%\n",
            "is_flair                      : 27.99%\n",
            "archived                      : 21.04%\n",
            "is_flair_css                  :  2.85%\n",
            "time_since_comment_tree_root  :  2.43%\n",
            "word_count                    :  2.29%\n",
            "time_lapse                    :  1.63%\n",
            "hour_of_comment               :  1.41%\n",
            "weekday                       :  0.49%\n",
            "depth                         :  0.00%\n",
            "parent_score                  :  0.00%\n",
            "time_since_parent             :  0.00%\n",
            "\n",
            "Total importance: 100.00%\n"
          ],
          "name": "stdout"
        }
      ]
    },
    {
      "cell_type": "code",
      "metadata": {
        "id": "yuUtk9HHcbUw"
      },
      "source": [
        "results=pd.DataFrame(y_test , y_predicted)"
      ],
      "execution_count": null,
      "outputs": []
    },
    {
      "cell_type": "code",
      "metadata": {
        "colab": {
          "base_uri": "https://localhost:8080/"
        },
        "id": "4MepcjX_dnIK",
        "outputId": "c4851122-30fc-4281-a00d-25d76a288f65"
      },
      "source": [
        "y_test"
      ],
      "execution_count": null,
      "outputs": [
        {
          "output_type": "execute_result",
          "data": {
            "text/plain": [
              "562298    -4\n",
              "255009     1\n",
              "765454     1\n",
              "82159      0\n",
              "170796     1\n",
              "          ..\n",
              "109089     2\n",
              "312221   -11\n",
              "648040     6\n",
              "385880     3\n",
              "357694     6\n",
              "Name: score, Length: 9244, dtype: int64"
            ]
          },
          "metadata": {
            "tags": []
          },
          "execution_count": 73
        }
      ]
    },
    {
      "cell_type": "code",
      "metadata": {
        "id": "rmROnWg2PW_m",
        "colab": {
          "base_uri": "https://localhost:8080/"
        },
        "outputId": "bd0d57ce-7553-4ff5-db92-3e3b7cff1b7c"
      },
      "source": [
        "y_predicted"
      ],
      "execution_count": null,
      "outputs": [
        {
          "output_type": "execute_result",
          "data": {
            "text/plain": [
              "array([-3.4816658 ,  0.5385998 ,  0.96456003, ...,  2.9958682 ,\n",
              "        4.1538897 ,  5.8377643 ], dtype=float32)"
            ]
          },
          "metadata": {
            "tags": []
          },
          "execution_count": 74
        }
      ]
    },
    {
      "cell_type": "code",
      "metadata": {
        "id": "BLFvYuPPdLVr"
      },
      "source": [
        ""
      ],
      "execution_count": null,
      "outputs": []
    }
  ]
}