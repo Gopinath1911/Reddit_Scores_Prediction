{
  "nbformat": 4,
  "nbformat_minor": 0,
  "metadata": {
    "colab": {
      "name": "Reddit_Score_prediction.ipynb",
      "provenance": [],
      "collapsed_sections": [],
      "machine_shape": "hm",
      "include_colab_link": true
    },
    "kernelspec": {
      "name": "python3",
      "display_name": "Python 3"
    },
    "accelerator": "GPU"
  },
  "cells": [
    {
      "cell_type": "markdown",
      "metadata": {
        "id": "view-in-github",
        "colab_type": "text"
      },
      "source": [
        "<a href=\"https://colab.research.google.com/github/Gopinath1911/Reddit_Scores_Prediction/blob/main/Reddit_Score_prediction.ipynb\" target=\"_parent\"><img src=\"https://colab.research.google.com/assets/colab-badge.svg\" alt=\"Open In Colab\"/></a>"
      ]
    },
    {
      "cell_type": "code",
      "metadata": {
        "colab": {
          "base_uri": "https://localhost:8080/"
        },
        "id": "2pNDwH6CIM2M",
        "outputId": "723f3879-df14-4c5f-b5cc-d4f667cc4398"
      },
      "source": [
        "from google.colab import drive\n",
        "drive.mount('/content/drive')"
      ],
      "execution_count": null,
      "outputs": [
        {
          "output_type": "stream",
          "text": [
            "Drive already mounted at /content/drive; to attempt to forcibly remount, call drive.mount(\"/content/drive\", force_remount=True).\n"
          ],
          "name": "stdout"
        }
      ]
    },
    {
      "cell_type": "code",
      "metadata": {
        "colab": {
          "base_uri": "https://localhost:8080/"
        },
        "id": "STzKGQQBILXU",
        "outputId": "6c281d3e-f46f-4e1e-f885-dd3cce33a54c"
      },
      "source": [
        "import pandas as pd\r\n",
        "import numpy as np\r\n",
        "\r\n",
        "df=pd.read_csv(\"/content/drive/MyDrive/data.csv\")"
      ],
      "execution_count": null,
      "outputs": [
        {
          "output_type": "stream",
          "text": [
            "/usr/local/lib/python3.6/dist-packages/IPython/core/interactiveshell.py:2718: DtypeWarning: Columns (19) have mixed types.Specify dtype option on import or set low_memory=False.\n",
            "  interactivity=interactivity, compiler=compiler, result=result)\n"
          ],
          "name": "stderr"
        }
      ]
    },
    {
      "cell_type": "code",
      "metadata": {
        "colab": {
          "base_uri": "https://localhost:8080/",
          "height": 501
        },
        "id": "KFOYSQuFInil",
        "outputId": "17e7745a-f6b5-45ff-eada-b31df530d429"
      },
      "source": [
        "df.head()"
      ],
      "execution_count": null,
      "outputs": [
        {
          "output_type": "execute_result",
          "data": {
            "text/html": [
              "<div>\n",
              "<style scoped>\n",
              "    .dataframe tbody tr th:only-of-type {\n",
              "        vertical-align: middle;\n",
              "    }\n",
              "\n",
              "    .dataframe tbody tr th {\n",
              "        vertical-align: top;\n",
              "    }\n",
              "\n",
              "    .dataframe thead th {\n",
              "        text-align: right;\n",
              "    }\n",
              "</style>\n",
              "<table border=\"1\" class=\"dataframe\">\n",
              "  <thead>\n",
              "    <tr style=\"text-align: right;\">\n",
              "      <th></th>\n",
              "      <th>Unnamed: 0</th>\n",
              "      <th>gilded</th>\n",
              "      <th>author_flair_css_class</th>\n",
              "      <th>id</th>\n",
              "      <th>link_id</th>\n",
              "      <th>downs</th>\n",
              "      <th>subreddit</th>\n",
              "      <th>author</th>\n",
              "      <th>score</th>\n",
              "      <th>subreddit_id</th>\n",
              "      <th>ups</th>\n",
              "      <th>edited</th>\n",
              "      <th>author_flair_text</th>\n",
              "      <th>body</th>\n",
              "      <th>retrieved_on</th>\n",
              "      <th>parent_id</th>\n",
              "      <th>controversiality</th>\n",
              "      <th>name</th>\n",
              "      <th>score_hidden</th>\n",
              "      <th>distinguished</th>\n",
              "      <th>archived</th>\n",
              "      <th>created_utc</th>\n",
              "      <th>removal_reason</th>\n",
              "    </tr>\n",
              "  </thead>\n",
              "  <tbody>\n",
              "    <tr>\n",
              "      <th>0</th>\n",
              "      <td>0</td>\n",
              "      <td>0</td>\n",
              "      <td>NaN</td>\n",
              "      <td>2</td>\n",
              "      <td>t3_7j6z5</td>\n",
              "      <td>0</td>\n",
              "      <td>politics</td>\n",
              "      <td>malcontent</td>\n",
              "      <td>1</td>\n",
              "      <td>t5_2cneq</td>\n",
              "      <td>1</td>\n",
              "      <td>0</td>\n",
              "      <td>NaN</td>\n",
              "      <td>&amp;gt;The business cannot survive paying out ben...</td>\n",
              "      <td>1428217153</td>\n",
              "      <td>t1_c06vdmu</td>\n",
              "      <td>0</td>\n",
              "      <td>t1_2</td>\n",
              "      <td>False</td>\n",
              "      <td>NaN</td>\n",
              "      <td>True</td>\n",
              "      <td>1229580037</td>\n",
              "      <td>NaN</td>\n",
              "    </tr>\n",
              "    <tr>\n",
              "      <th>1</th>\n",
              "      <td>1</td>\n",
              "      <td>0</td>\n",
              "      <td>NaN</td>\n",
              "      <td>3</td>\n",
              "      <td>t3_7jlvw</td>\n",
              "      <td>0</td>\n",
              "      <td>politics</td>\n",
              "      <td>malcontent</td>\n",
              "      <td>1</td>\n",
              "      <td>t5_2cneq</td>\n",
              "      <td>1</td>\n",
              "      <td>0</td>\n",
              "      <td>NaN</td>\n",
              "      <td>&amp;gt;I'm curious, how do you see, beyond defini...</td>\n",
              "      <td>1428217153</td>\n",
              "      <td>t1_c06vcxp</td>\n",
              "      <td>0</td>\n",
              "      <td>t1_3</td>\n",
              "      <td>False</td>\n",
              "      <td>NaN</td>\n",
              "      <td>True</td>\n",
              "      <td>1229580041</td>\n",
              "      <td>NaN</td>\n",
              "    </tr>\n",
              "    <tr>\n",
              "      <th>2</th>\n",
              "      <td>2</td>\n",
              "      <td>0</td>\n",
              "      <td>NaN</td>\n",
              "      <td>4</td>\n",
              "      <td>t3_7jlvw</td>\n",
              "      <td>0</td>\n",
              "      <td>politics</td>\n",
              "      <td>malcontent</td>\n",
              "      <td>2</td>\n",
              "      <td>t5_2cneq</td>\n",
              "      <td>2</td>\n",
              "      <td>0</td>\n",
              "      <td>NaN</td>\n",
              "      <td>&amp;gt;I'm curious, how do you see, beyond defini...</td>\n",
              "      <td>1428217153</td>\n",
              "      <td>t1_c06vcxp</td>\n",
              "      <td>0</td>\n",
              "      <td>t1_4</td>\n",
              "      <td>False</td>\n",
              "      <td>NaN</td>\n",
              "      <td>True</td>\n",
              "      <td>1229580053</td>\n",
              "      <td>NaN</td>\n",
              "    </tr>\n",
              "    <tr>\n",
              "      <th>3</th>\n",
              "      <td>3</td>\n",
              "      <td>0</td>\n",
              "      <td>NaN</td>\n",
              "      <td>5</td>\n",
              "      <td>t3_7k65l</td>\n",
              "      <td>0</td>\n",
              "      <td>WTF</td>\n",
              "      <td>[deleted]</td>\n",
              "      <td>1</td>\n",
              "      <td>t5_2qh61</td>\n",
              "      <td>1</td>\n",
              "      <td>0</td>\n",
              "      <td>NaN</td>\n",
              "      <td>[deleted]</td>\n",
              "      <td>1428217153</td>\n",
              "      <td>t1_c06vuga</td>\n",
              "      <td>0</td>\n",
              "      <td>t1_5</td>\n",
              "      <td>False</td>\n",
              "      <td>NaN</td>\n",
              "      <td>True</td>\n",
              "      <td>1229580067</td>\n",
              "      <td>NaN</td>\n",
              "    </tr>\n",
              "    <tr>\n",
              "      <th>4</th>\n",
              "      <td>4</td>\n",
              "      <td>0</td>\n",
              "      <td>NaN</td>\n",
              "      <td>6</td>\n",
              "      <td>t3_7k97q</td>\n",
              "      <td>0</td>\n",
              "      <td>reddit.com</td>\n",
              "      <td>[deleted]</td>\n",
              "      <td>1</td>\n",
              "      <td>t5_6</td>\n",
              "      <td>1</td>\n",
              "      <td>0</td>\n",
              "      <td>NaN</td>\n",
              "      <td>[deleted]</td>\n",
              "      <td>1428217153</td>\n",
              "      <td>t3_7k97q</td>\n",
              "      <td>0</td>\n",
              "      <td>t1_6</td>\n",
              "      <td>False</td>\n",
              "      <td>NaN</td>\n",
              "      <td>True</td>\n",
              "      <td>1229580072</td>\n",
              "      <td>NaN</td>\n",
              "    </tr>\n",
              "  </tbody>\n",
              "</table>\n",
              "</div>"
            ],
            "text/plain": [
              "   Unnamed: 0  gilded  ... created_utc removal_reason\n",
              "0           0       0  ...  1229580037            NaN\n",
              "1           1       0  ...  1229580041            NaN\n",
              "2           2       0  ...  1229580053            NaN\n",
              "3           3       0  ...  1229580067            NaN\n",
              "4           4       0  ...  1229580072            NaN\n",
              "\n",
              "[5 rows x 23 columns]"
            ]
          },
          "metadata": {
            "tags": []
          },
          "execution_count": 55
        }
      ]
    },
    {
      "cell_type": "code",
      "metadata": {
        "colab": {
          "base_uri": "https://localhost:8080/"
        },
        "id": "4NOCVRzgJQDV",
        "outputId": "3213a20f-a0e4-43d7-adeb-7c3311dc4eec"
      },
      "source": [
        "df.shape"
      ],
      "execution_count": null,
      "outputs": [
        {
          "output_type": "execute_result",
          "data": {
            "text/plain": [
              "(850359, 23)"
            ]
          },
          "metadata": {
            "tags": []
          },
          "execution_count": 56
        }
      ]
    },
    {
      "cell_type": "code",
      "metadata": {
        "colab": {
          "base_uri": "https://localhost:8080/"
        },
        "id": "YFZmz2YqJe4l",
        "outputId": "8874d0ea-0394-4e15-b374-131e658966eb"
      },
      "source": [
        "df.info()"
      ],
      "execution_count": null,
      "outputs": [
        {
          "output_type": "stream",
          "text": [
            "<class 'pandas.core.frame.DataFrame'>\n",
            "RangeIndex: 850359 entries, 0 to 850358\n",
            "Data columns (total 23 columns):\n",
            " #   Column                  Non-Null Count   Dtype  \n",
            "---  ------                  --------------   -----  \n",
            " 0   Unnamed: 0              850359 non-null  int64  \n",
            " 1   gilded                  850359 non-null  int64  \n",
            " 2   author_flair_css_class  4431 non-null    object \n",
            " 3   id                      850358 non-null  object \n",
            " 4   link_id                 850359 non-null  object \n",
            " 5   downs                   850359 non-null  int64  \n",
            " 6   subreddit               850359 non-null  object \n",
            " 7   author                  850359 non-null  object \n",
            " 8   score                   850359 non-null  int64  \n",
            " 9   subreddit_id            850359 non-null  object \n",
            " 10  ups                     850359 non-null  int64  \n",
            " 11  edited                  850359 non-null  int64  \n",
            " 12  author_flair_text       3916 non-null    object \n",
            " 13  body                    850357 non-null  object \n",
            " 14  retrieved_on            850359 non-null  int64  \n",
            " 15  parent_id               850359 non-null  object \n",
            " 16  controversiality        850359 non-null  int64  \n",
            " 17  name                    850359 non-null  object \n",
            " 18  score_hidden            850359 non-null  bool   \n",
            " 19  distinguished           2 non-null       object \n",
            " 20  archived                850359 non-null  bool   \n",
            " 21  created_utc             850359 non-null  int64  \n",
            " 22  removal_reason          0 non-null       float64\n",
            "dtypes: bool(2), float64(1), int64(9), object(11)\n",
            "memory usage: 137.9+ MB\n"
          ],
          "name": "stdout"
        }
      ]
    },
    {
      "cell_type": "code",
      "metadata": {
        "id": "euwNYZGuJiLh",
        "colab": {
          "base_uri": "https://localhost:8080/"
        },
        "outputId": "49931c26-74e6-4867-fc1e-2ae242be5d99"
      },
      "source": [
        "df.isna().sum()"
      ],
      "execution_count": null,
      "outputs": [
        {
          "output_type": "execute_result",
          "data": {
            "text/plain": [
              "Unnamed: 0                     0\n",
              "gilded                         0\n",
              "author_flair_css_class    845928\n",
              "id                             1\n",
              "link_id                        0\n",
              "downs                          0\n",
              "subreddit                      0\n",
              "author                         0\n",
              "score                          0\n",
              "subreddit_id                   0\n",
              "ups                            0\n",
              "edited                         0\n",
              "author_flair_text         846443\n",
              "body                           2\n",
              "retrieved_on                   0\n",
              "parent_id                      0\n",
              "controversiality               0\n",
              "name                           0\n",
              "score_hidden                   0\n",
              "distinguished             850357\n",
              "archived                       0\n",
              "created_utc                    0\n",
              "removal_reason            850359\n",
              "dtype: int64"
            ]
          },
          "metadata": {
            "tags": []
          },
          "execution_count": 58
        }
      ]
    },
    {
      "cell_type": "code",
      "metadata": {
        "colab": {
          "base_uri": "https://localhost:8080/"
        },
        "id": "5YMLAnzOtKCN",
        "outputId": "129d1abd-f428-4bc3-eb73-0e93d3e1fd4b"
      },
      "source": [
        "df.nunique()"
      ],
      "execution_count": null,
      "outputs": [
        {
          "output_type": "execute_result",
          "data": {
            "text/plain": [
              "Unnamed: 0                850359\n",
              "gilded                         1\n",
              "author_flair_css_class       314\n",
              "id                        850358\n",
              "link_id                   110898\n",
              "downs                          1\n",
              "subreddit                   1103\n",
              "author                     34073\n",
              "score                        493\n",
              "subreddit_id                1103\n",
              "ups                          493\n",
              "edited                       670\n",
              "author_flair_text            460\n",
              "body                      692282\n",
              "retrieved_on                7427\n",
              "parent_id                 443336\n",
              "controversiality               2\n",
              "name                      850359\n",
              "score_hidden                   1\n",
              "distinguished                  1\n",
              "archived                       2\n",
              "created_utc               714831\n",
              "removal_reason                 0\n",
              "dtype: int64"
            ]
          },
          "metadata": {
            "tags": []
          },
          "execution_count": 59
        }
      ]
    },
    {
      "cell_type": "code",
      "metadata": {
        "id": "FtCoA2sBv8Bm"
      },
      "source": [
        "df=df.loc[:, ~df.columns.str.contains('^Unnamed')]"
      ],
      "execution_count": null,
      "outputs": []
    },
    {
      "cell_type": "code",
      "metadata": {
        "id": "RedxWxfnwIwT"
      },
      "source": [
        "df.drop(['gilded','downs', 'ups', 'controversiality', 'score_hidden', 'distinguished','removal_reason'], axis=1, inplace=True)"
      ],
      "execution_count": null,
      "outputs": []
    },
    {
      "cell_type": "code",
      "metadata": {
        "colab": {
          "base_uri": "https://localhost:8080/",
          "height": 197
        },
        "id": "6pmoZ5a2z7VH",
        "outputId": "1530884e-9ec7-4d5f-f575-1d3f45995f89"
      },
      "source": [
        "df.head(1)"
      ],
      "execution_count": null,
      "outputs": [
        {
          "output_type": "execute_result",
          "data": {
            "text/html": [
              "<div>\n",
              "<style scoped>\n",
              "    .dataframe tbody tr th:only-of-type {\n",
              "        vertical-align: middle;\n",
              "    }\n",
              "\n",
              "    .dataframe tbody tr th {\n",
              "        vertical-align: top;\n",
              "    }\n",
              "\n",
              "    .dataframe thead th {\n",
              "        text-align: right;\n",
              "    }\n",
              "</style>\n",
              "<table border=\"1\" class=\"dataframe\">\n",
              "  <thead>\n",
              "    <tr style=\"text-align: right;\">\n",
              "      <th></th>\n",
              "      <th>author_flair_css_class</th>\n",
              "      <th>id</th>\n",
              "      <th>link_id</th>\n",
              "      <th>subreddit</th>\n",
              "      <th>author</th>\n",
              "      <th>score</th>\n",
              "      <th>subreddit_id</th>\n",
              "      <th>edited</th>\n",
              "      <th>author_flair_text</th>\n",
              "      <th>body</th>\n",
              "      <th>retrieved_on</th>\n",
              "      <th>parent_id</th>\n",
              "      <th>name</th>\n",
              "      <th>archived</th>\n",
              "      <th>created_utc</th>\n",
              "    </tr>\n",
              "  </thead>\n",
              "  <tbody>\n",
              "    <tr>\n",
              "      <th>0</th>\n",
              "      <td>NaN</td>\n",
              "      <td>2</td>\n",
              "      <td>t3_7j6z5</td>\n",
              "      <td>politics</td>\n",
              "      <td>malcontent</td>\n",
              "      <td>1</td>\n",
              "      <td>t5_2cneq</td>\n",
              "      <td>0</td>\n",
              "      <td>NaN</td>\n",
              "      <td>&amp;gt;The business cannot survive paying out ben...</td>\n",
              "      <td>1428217153</td>\n",
              "      <td>t1_c06vdmu</td>\n",
              "      <td>t1_2</td>\n",
              "      <td>True</td>\n",
              "      <td>1229580037</td>\n",
              "    </tr>\n",
              "  </tbody>\n",
              "</table>\n",
              "</div>"
            ],
            "text/plain": [
              "  author_flair_css_class id   link_id  ...  name archived  created_utc\n",
              "0                    NaN  2  t3_7j6z5  ...  t1_2     True   1229580037\n",
              "\n",
              "[1 rows x 15 columns]"
            ]
          },
          "metadata": {
            "tags": []
          },
          "execution_count": 62
        }
      ]
    },
    {
      "cell_type": "code",
      "metadata": {
        "colab": {
          "base_uri": "https://localhost:8080/"
        },
        "id": "QRLg-Gyk3RDU",
        "outputId": "fbe39f07-cd7d-4e34-c31c-39c6464190b3"
      },
      "source": [
        "df.isna().sum()"
      ],
      "execution_count": null,
      "outputs": [
        {
          "output_type": "execute_result",
          "data": {
            "text/plain": [
              "author_flair_css_class    845928\n",
              "id                             1\n",
              "link_id                        0\n",
              "subreddit                      0\n",
              "author                         0\n",
              "score                          0\n",
              "subreddit_id                   0\n",
              "edited                         0\n",
              "author_flair_text         846443\n",
              "body                           2\n",
              "retrieved_on                   0\n",
              "parent_id                      0\n",
              "name                           0\n",
              "archived                       0\n",
              "created_utc                    0\n",
              "dtype: int64"
            ]
          },
          "metadata": {
            "tags": []
          },
          "execution_count": 63
        }
      ]
    },
    {
      "cell_type": "code",
      "metadata": {
        "colab": {
          "base_uri": "https://localhost:8080/"
        },
        "id": "hRcTNid81lbK",
        "outputId": "56d3e863-0916-4389-e686-e168bb389123"
      },
      "source": [
        "df.edited.value_counts()"
      ],
      "execution_count": null,
      "outputs": [
        {
          "output_type": "execute_result",
          "data": {
            "text/plain": [
              "0             736259\n",
              "1             113429\n",
              "1369518126         2\n",
              "1369519786         2\n",
              "1369507932         2\n",
              "               ...  \n",
              "1369517842         1\n",
              "1367605687         1\n",
              "1369536792         1\n",
              "1414164088         1\n",
              "1418074161         1\n",
              "Name: edited, Length: 670, dtype: int64"
            ]
          },
          "metadata": {
            "tags": []
          },
          "execution_count": 64
        }
      ]
    },
    {
      "cell_type": "code",
      "metadata": {
        "id": "5caVn69aUWk9"
      },
      "source": [
        "X_num= df[['edited', 'archived']]\r\n",
        "X_cat=df[['author', 'subreddit']]\r\n",
        "y=df['score']"
      ],
      "execution_count": null,
      "outputs": []
    },
    {
      "cell_type": "code",
      "metadata": {
        "id": "b36o1m9-lJoO"
      },
      "source": [
        "X_cat_encoding=pd.get_dummies(X_cat)"
      ],
      "execution_count": null,
      "outputs": []
    },
    {
      "cell_type": "code",
      "metadata": {
        "id": "lSH0xiQipBTk"
      },
      "source": [
        ""
      ],
      "execution_count": null,
      "outputs": []
    }
  ]
}